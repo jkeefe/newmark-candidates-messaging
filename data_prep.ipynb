{
 "cells": [
  {
   "cell_type": "code",
   "execution_count": 1,
   "metadata": {},
   "outputs": [],
   "source": [
    "import glob\n",
    "import pandas as pd"
   ]
  },
  {
   "cell_type": "markdown",
   "metadata": {},
   "source": [
    "Let's get the list of CSV files ..."
   ]
  },
  {
   "cell_type": "code",
   "execution_count": 2,
   "metadata": {},
   "outputs": [],
   "source": [
    "file_list = sorted(glob.glob('./data/TWITTER_CSV_EXPORTS/*.*'))"
   ]
  },
  {
   "cell_type": "code",
   "execution_count": 3,
   "metadata": {},
   "outputs": [
    {
     "data": {
      "text/plain": [
       "['./data/TWITTER_CSV_EXPORTS/AZ-01-Shedd - shedd_tweets.csv',\n",
       " './data/TWITTER_CSV_EXPORTS/AZ-02 - stauz_tweets.csv',\n",
       " './data/TWITTER_CSV_EXPORTS/AZ-02.2 - Sheet1.csv',\n",
       " './data/TWITTER_CSV_EXPORTS/CA-25 - garcia_tweets.csv',\n",
       " './data/TWITTER_CSV_EXPORTS/CA-39-Kim - kim_tweets.csv',\n",
       " './data/TWITTER_CSV_EXPORTS/CA-45 - Sheet1.csv',\n",
       " './data/TWITTER_CSV_EXPORTS/CA-48-Steel - Sheet1.csv',\n",
       " './data/TWITTER_CSV_EXPORTS/CO-06-House - Sheet1.csv',\n",
       " './data/TWITTER_CSV_EXPORTS/IA-01-Hinson - Sheet1.csv',\n",
       " './data/TWITTER_CSV_EXPORTS/IA-02-Miller-Meeks - Sheet1.csv',\n",
       " './data/TWITTER_CSV_EXPORTS/IA-03-Young - Sheet1.csv',\n",
       " './data/TWITTER_CSV_EXPORTS/IL-06-Ives - Sheet1.csv',\n",
       " './data/TWITTER_CSV_EXPORTS/IL-14-Oberweis - Sheet1.csv',\n",
       " './data/TWITTER_CSV_EXPORTS/IL-17-Joy-King - Sheet1.csv',\n",
       " './data/TWITTER_CSV_EXPORTS/KS-03-Adkins - Sheet1.csv',\n",
       " './data/TWITTER_CSV_EXPORTS/ME-02-Bennett - Sheet1.csv',\n",
       " './data/TWITTER_CSV_EXPORTS/MI-11-Bentivoglio - Sheet1.csv',\n",
       " './data/TWITTER_CSV_EXPORTS/MI-11-Esshaki - Sheet1.csv',\n",
       " './data/TWITTER_CSV_EXPORTS/NJ-02-VanDrew - Sheet1.csv',\n",
       " './data/TWITTER_CSV_EXPORTS/NJ-07-Keane-Jr. - Sheet1.csv',\n",
       " './data/TWITTER_CSV_EXPORTS/NY-19-Hawatmeh - Sheet1.csv',\n",
       " './data/TWITTER_CSV_EXPORTS/TX-07-Hunt - Sheet1.csv',\n",
       " './data/TWITTER_CSV_EXPORTS/Tweet_Batch_3 - @Rimmer4Congress.csv',\n",
       " './data/TWITTER_CSV_EXPORTS/Tweet_Batch_3 - Anita Malik (D).csv',\n",
       " './data/TWITTER_CSV_EXPORTS/Tweet_Batch_3 - DanSchwartz.csv',\n",
       " './data/TWITTER_CSV_EXPORTS/Tweet_Batch_3 - DavidValadao.csv',\n",
       " './data/TWITTER_CSV_EXPORTS/Tweet_Batch_3 - GabeFerrer.csv',\n",
       " './data/TWITTER_CSV_EXPORTS/Tweet_Batch_3 - Hiral Tipirneni (D).csv',\n",
       " './data/TWITTER_CSV_EXPORTS/Tweet_Batch_3 - MikeGhassali.csv',\n",
       " './data/TWITTER_CSV_EXPORTS/Tweet_Batch_3 - ThomasDelia.csv',\n",
       " './data/TWITTER_CSV_EXPORTS/Tweet_Batch_4 - Adam Hattersley (D).csv',\n",
       " './data/TWITTER_CSV_EXPORTS/Tweet_Batch_4 - Alan Cohn (D).csv',\n",
       " './data/TWITTER_CSV_EXPORTS/Tweet_Batch_4 - Betsy Dirksen Londrigan (D).csv',\n",
       " './data/TWITTER_CSV_EXPORTS/Tweet_Batch_4 - Diane Mitsch Bush (D).csv',\n",
       " './data/TWITTER_CSV_EXPORTS/Tweet_Batch_4 - James Iacino (D).csv',\n",
       " './data/TWITTER_CSV_EXPORTS/Tweet_Batch_4 - Karl Gentles (D).csv',\n",
       " './data/TWITTER_CSV_EXPORTS/Tweet_Batch_4 - Margaret Good (D).csv',\n",
       " './data/TWITTER_CSV_EXPORTS/Tweet_Batch_4 - Nicholas Vessio (R).csv',\n",
       " './data/TWITTER_CSV_EXPORTS/Tweet_Batch_4 - Oz Vazquez (D).csv',\n",
       " './data/TWITTER_CSV_EXPORTS/Tweet_Batch_5 - ChristinaHale.csv',\n",
       " './data/TWITTER_CSV_EXPORTS/Tweet_Batch_5 - ChuckDietzen.csv',\n",
       " './data/TWITTER_CSV_EXPORTS/Tweet_Batch_5 - DanielFeehan.csv',\n",
       " './data/TWITTER_CSV_EXPORTS/Tweet_Batch_5 - JohnnyAkzam.csv',\n",
       " './data/TWITTER_CSV_EXPORTS/Tweet_Batch_5 - JonHoadley.csv',\n",
       " './data/TWITTER_CSV_EXPORTS/Tweet_Batch_5 - JoshHicks.csv',\n",
       " './data/TWITTER_CSV_EXPORTS/Tweet_Batch_5 - KellyMitchell.csv',\n",
       " './data/TWITTER_CSV_EXPORTS/Twitter_Batch 1 - AmandaMakki.csv',\n",
       " './data/TWITTER_CSV_EXPORTS/Twitter_Batch 1 - AnnaPaulina.csv',\n",
       " './data/TWITTER_CSV_EXPORTS/Twitter_Batch 1 - Elvira Salazar (R).csv',\n",
       " './data/TWITTER_CSV_EXPORTS/Twitter_Batch 1 - Irina Vilarino (R).csv',\n",
       " './data/TWITTER_CSV_EXPORTS/Twitter_Batch 1 - Karen Handel (R).csv',\n",
       " './data/TWITTER_CSV_EXPORTS/Twitter_Batch_6 - Debra Lamm (R).csv',\n",
       " './data/TWITTER_CSV_EXPORTS/Twitter_Batch_6 - Jill Schupp (D).csv',\n",
       " './data/TWITTER_CSV_EXPORTS/Twitter_Batch_6 - Joe Dooling (R).csv',\n",
       " './data/TWITTER_CSV_EXPORTS/Twitter_Batch_6 - Kathleen Williams (D).csv',\n",
       " './data/TWITTER_CSV_EXPORTS/Twitter_Batch_6 - Mark McGinley (R).csv',\n",
       " './data/TWITTER_CSV_EXPORTS/Twitter_Batch_6 - Mark Schroepfer (D).csv',\n",
       " './data/TWITTER_CSV_EXPORTS/Twitter_Batch_6 - Matt Rosendale (R).csv',\n",
       " './data/TWITTER_CSV_EXPORTS/Twitter_Batch_6 - Tom Winter (D).csv',\n",
       " './data/TWITTER_CSV_EXPORTS/Twitter_Batch_8 - Alaina Shearer (D).csv',\n",
       " './data/TWITTER_CSV_EXPORTS/Twitter_Batch_8 - Chris Jacobs (I).csv',\n",
       " './data/TWITTER_CSV_EXPORTS/Twitter_Batch_8 - Christina Finello (D).csv',\n",
       " './data/TWITTER_CSV_EXPORTS/Twitter_Batch_8 - Dana Balter (D).csv',\n",
       " './data/TWITTER_CSV_EXPORTS/Twitter_Batch_8 - Eugene DePasquale (D).csv',\n",
       " './data/TWITTER_CSV_EXPORTS/Twitter_Batch_8 - Francis Conole (D).csv',\n",
       " './data/TWITTER_CSV_EXPORTS/Twitter_Batch_8 - Nate McMurray (D).csv',\n",
       " './data/TWITTER_CSV_EXPORTS/Twitter_Batch_8 - Skylar Hurwitz (D).csv',\n",
       " './data/TWITTER_CSV_EXPORTS/Twitter_Batch_8 - Stefan Mychajliw (R).csv',\n",
       " './data/TWITTER_CSV_EXPORTS/Twitter_Batch_9 - Beth Van Duyne (R) .csv',\n",
       " './data/TWITTER_CSV_EXPORTS/Twitter_Batch_9 - Candace Valenzuela (D).csv',\n",
       " './data/TWITTER_CSV_EXPORTS/Twitter_Batch_9 - Carolyn Long (D).csv',\n",
       " './data/TWITTER_CSV_EXPORTS/Twitter_Batch_9 - Kim Olson (D).csv',\n",
       " './data/TWITTER_CSV_EXPORTS/Twitter_Batch_9 - Pritesh Gandhi (D).csv',\n",
       " './data/TWITTER_CSV_EXPORTS/Twitter_Batch_9 - Raul Reyes (R).csv']"
      ]
     },
     "execution_count": 3,
     "metadata": {},
     "output_type": "execute_result"
    }
   ],
   "source": [
    "file_list"
   ]
  },
  {
   "cell_type": "markdown",
   "metadata": {},
   "source": [
    "Now we need to concatinate all of those. Here's a nifty piece of code that does that I got from [this medium post](https://medium.com/@kadek/elegantly-reading-multiple-csvs-into-pandas-e1a76843b688).\n",
    "\n",
    "If you look closely, you can see that it's looping through every file (called 'f') in the file_list, reading the file as a csv, and concatinating the whole thing."
   ]
  },
  {
   "cell_type": "code",
   "execution_count": 4,
   "metadata": {},
   "outputs": [],
   "source": [
    "df = pd.concat([pd.read_csv(f) for f in file_list], ignore_index = True)"
   ]
  },
  {
   "cell_type": "code",
   "execution_count": 5,
   "metadata": {},
   "outputs": [
    {
     "data": {
      "text/html": [
       "<div>\n",
       "<style scoped>\n",
       "    .dataframe tbody tr th:only-of-type {\n",
       "        vertical-align: middle;\n",
       "    }\n",
       "\n",
       "    .dataframe tbody tr th {\n",
       "        vertical-align: top;\n",
       "    }\n",
       "\n",
       "    .dataframe thead th {\n",
       "        text-align: right;\n",
       "    }\n",
       "</style>\n",
       "<table border=\"1\" class=\"dataframe\">\n",
       "  <thead>\n",
       "    <tr style=\"text-align: right;\">\n",
       "      <th></th>\n",
       "      <th>date</th>\n",
       "      <th>handle</th>\n",
       "      <th>content</th>\n",
       "      <th>link</th>\n",
       "      <th>covid_1</th>\n",
       "      <th>covid_2</th>\n",
       "      <th>covid_3</th>\n",
       "      <th>covid_final</th>\n",
       "      <th>other_1</th>\n",
       "      <th>other_2</th>\n",
       "      <th>other_3</th>\n",
       "      <th>other_final</th>\n",
       "      <th>url</th>\n",
       "      <th>twitter handle</th>\n",
       "      <th>district</th>\n",
       "      <th>incumbent</th>\n",
       "      <th>incumbent party</th>\n",
       "      <th>opponent</th>\n",
       "      <th>opponent party</th>\n",
       "      <th>opponent twitter handle</th>\n",
       "    </tr>\n",
       "  </thead>\n",
       "  <tbody>\n",
       "    <tr>\n",
       "      <th>count</th>\n",
       "      <td>3993</td>\n",
       "      <td>1124</td>\n",
       "      <td>3993</td>\n",
       "      <td>611</td>\n",
       "      <td>3500</td>\n",
       "      <td>3403</td>\n",
       "      <td>1409</td>\n",
       "      <td>3379</td>\n",
       "      <td>3234</td>\n",
       "      <td>3232</td>\n",
       "      <td>1400</td>\n",
       "      <td>3252</td>\n",
       "      <td>219</td>\n",
       "      <td>77</td>\n",
       "      <td>94</td>\n",
       "      <td>94</td>\n",
       "      <td>94</td>\n",
       "      <td>94</td>\n",
       "      <td>86</td>\n",
       "      <td>48</td>\n",
       "    </tr>\n",
       "    <tr>\n",
       "      <th>unique</th>\n",
       "      <td>3899</td>\n",
       "      <td>28</td>\n",
       "      <td>3987</td>\n",
       "      <td>611</td>\n",
       "      <td>6</td>\n",
       "      <td>5</td>\n",
       "      <td>5</td>\n",
       "      <td>5</td>\n",
       "      <td>2</td>\n",
       "      <td>2</td>\n",
       "      <td>4</td>\n",
       "      <td>4</td>\n",
       "      <td>219</td>\n",
       "      <td>4</td>\n",
       "      <td>10</td>\n",
       "      <td>4</td>\n",
       "      <td>9</td>\n",
       "      <td>10</td>\n",
       "      <td>1</td>\n",
       "      <td>1</td>\n",
       "    </tr>\n",
       "    <tr>\n",
       "      <th>top</th>\n",
       "      <td>April 05, 2020 at 04:51PM</td>\n",
       "      <td>@hiral4congress</td>\n",
       "      <td>RT @WhiteHouse: President @realDonaldTrump jus...</td>\n",
       "      <td>http://twitter.com/PathForFreedom/status/12479...</td>\n",
       "      <td>False</td>\n",
       "      <td>False</td>\n",
       "      <td>False</td>\n",
       "      <td>0</td>\n",
       "      <td>False</td>\n",
       "      <td>False</td>\n",
       "      <td>False</td>\n",
       "      <td>0</td>\n",
       "      <td>http://twitter.com/OlaForCongress/status/12532...</td>\n",
       "      <td>@hinsonashley</td>\n",
       "      <td>TX-07</td>\n",
       "      <td>Lizzie Fletcher</td>\n",
       "      <td>D</td>\n",
       "      <td>Wesley Hunt</td>\n",
       "      <td>R</td>\n",
       "      <td>@WesleyHuntTX</td>\n",
       "    </tr>\n",
       "    <tr>\n",
       "      <th>freq</th>\n",
       "      <td>7</td>\n",
       "      <td>105</td>\n",
       "      <td>2</td>\n",
       "      <td>1</td>\n",
       "      <td>3175</td>\n",
       "      <td>3187</td>\n",
       "      <td>1309</td>\n",
       "      <td>3134</td>\n",
       "      <td>3046</td>\n",
       "      <td>3031</td>\n",
       "      <td>1330</td>\n",
       "      <td>2962</td>\n",
       "      <td>1</td>\n",
       "      <td>74</td>\n",
       "      <td>48</td>\n",
       "      <td>48</td>\n",
       "      <td>86</td>\n",
       "      <td>48</td>\n",
       "      <td>86</td>\n",
       "      <td>48</td>\n",
       "    </tr>\n",
       "  </tbody>\n",
       "</table>\n",
       "</div>"
      ],
      "text/plain": [
       "                             date           handle  \\\n",
       "count                        3993             1124   \n",
       "unique                       3899               28   \n",
       "top     April 05, 2020 at 04:51PM  @hiral4congress   \n",
       "freq                            7              105   \n",
       "\n",
       "                                                  content  \\\n",
       "count                                                3993   \n",
       "unique                                               3987   \n",
       "top     RT @WhiteHouse: President @realDonaldTrump jus...   \n",
       "freq                                                    2   \n",
       "\n",
       "                                                     link covid_1 covid_2  \\\n",
       "count                                                 611    3500    3403   \n",
       "unique                                                611       6       5   \n",
       "top     http://twitter.com/PathForFreedom/status/12479...   False   False   \n",
       "freq                                                    1    3175    3187   \n",
       "\n",
       "       covid_3  covid_final other_1 other_2 other_3  other_final  \\\n",
       "count     1409         3379    3234    3232    1400         3252   \n",
       "unique       5            5       2       2       4            4   \n",
       "top      False            0   False   False   False            0   \n",
       "freq      1309         3134    3046    3031    1330         2962   \n",
       "\n",
       "                                                      url twitter handle  \\\n",
       "count                                                 219             77   \n",
       "unique                                                219              4   \n",
       "top     http://twitter.com/OlaForCongress/status/12532...  @hinsonashley   \n",
       "freq                                                    1             74   \n",
       "\n",
       "       district        incumbent incumbent party     opponent opponent party  \\\n",
       "count        94               94              94           94             86   \n",
       "unique       10                4               9           10              1   \n",
       "top       TX-07  Lizzie Fletcher               D  Wesley Hunt              R   \n",
       "freq         48               48              86           48             86   \n",
       "\n",
       "       opponent twitter handle  \n",
       "count                       48  \n",
       "unique                       1  \n",
       "top              @WesleyHuntTX  \n",
       "freq                        48  "
      ]
     },
     "execution_count": 5,
     "metadata": {},
     "output_type": "execute_result"
    }
   ],
   "source": [
    "df.describe()"
   ]
  },
  {
   "cell_type": "markdown",
   "metadata": {},
   "source": [
    "Ooooh. That's a lot of extra columns. That's okay. We just need three of them:"
   ]
  },
  {
   "cell_type": "code",
   "execution_count": 46,
   "metadata": {},
   "outputs": [],
   "source": [
    "master = df[['content','covid_final','other_final']].copy()"
   ]
  },
  {
   "cell_type": "code",
   "execution_count": 47,
   "metadata": {},
   "outputs": [
    {
     "data": {
      "text/html": [
       "<div>\n",
       "<style scoped>\n",
       "    .dataframe tbody tr th:only-of-type {\n",
       "        vertical-align: middle;\n",
       "    }\n",
       "\n",
       "    .dataframe tbody tr th {\n",
       "        vertical-align: top;\n",
       "    }\n",
       "\n",
       "    .dataframe thead th {\n",
       "        text-align: right;\n",
       "    }\n",
       "</style>\n",
       "<table border=\"1\" class=\"dataframe\">\n",
       "  <thead>\n",
       "    <tr style=\"text-align: right;\">\n",
       "      <th></th>\n",
       "      <th>content</th>\n",
       "      <th>covid_final</th>\n",
       "      <th>other_final</th>\n",
       "    </tr>\n",
       "  </thead>\n",
       "  <tbody>\n",
       "    <tr>\n",
       "      <th>count</th>\n",
       "      <td>3993</td>\n",
       "      <td>3379</td>\n",
       "      <td>3252</td>\n",
       "    </tr>\n",
       "    <tr>\n",
       "      <th>unique</th>\n",
       "      <td>3987</td>\n",
       "      <td>5</td>\n",
       "      <td>4</td>\n",
       "    </tr>\n",
       "    <tr>\n",
       "      <th>top</th>\n",
       "      <td>RT @WhiteHouse: President @realDonaldTrump jus...</td>\n",
       "      <td>0</td>\n",
       "      <td>0</td>\n",
       "    </tr>\n",
       "    <tr>\n",
       "      <th>freq</th>\n",
       "      <td>2</td>\n",
       "      <td>3134</td>\n",
       "      <td>2962</td>\n",
       "    </tr>\n",
       "  </tbody>\n",
       "</table>\n",
       "</div>"
      ],
      "text/plain": [
       "                                                  content  covid_final  \\\n",
       "count                                                3993         3379   \n",
       "unique                                               3987            5   \n",
       "top     RT @WhiteHouse: President @realDonaldTrump jus...            0   \n",
       "freq                                                    2         3134   \n",
       "\n",
       "        other_final  \n",
       "count          3252  \n",
       "unique            4  \n",
       "top               0  \n",
       "freq           2962  "
      ]
     },
     "execution_count": 47,
     "metadata": {},
     "output_type": "execute_result"
    }
   ],
   "source": [
    "master.describe()"
   ]
  },
  {
   "cell_type": "code",
   "execution_count": 48,
   "metadata": {},
   "outputs": [
    {
     "data": {
      "text/html": [
       "<div>\n",
       "<style scoped>\n",
       "    .dataframe tbody tr th:only-of-type {\n",
       "        vertical-align: middle;\n",
       "    }\n",
       "\n",
       "    .dataframe tbody tr th {\n",
       "        vertical-align: top;\n",
       "    }\n",
       "\n",
       "    .dataframe thead th {\n",
       "        text-align: right;\n",
       "    }\n",
       "</style>\n",
       "<table border=\"1\" class=\"dataframe\">\n",
       "  <thead>\n",
       "    <tr style=\"text-align: right;\">\n",
       "      <th></th>\n",
       "      <th>content</th>\n",
       "      <th>covid_final</th>\n",
       "      <th>other_final</th>\n",
       "    </tr>\n",
       "  </thead>\n",
       "  <tbody>\n",
       "    <tr>\n",
       "      <th>0</th>\n",
       "      <td>Thank you to all those fighting COVID-19 on th...</td>\n",
       "      <td>0</td>\n",
       "      <td>0</td>\n",
       "    </tr>\n",
       "    <tr>\n",
       "      <th>1</th>\n",
       "      <td>The Arizona Department of Health Services has ...</td>\n",
       "      <td>0</td>\n",
       "      <td>0</td>\n",
       "    </tr>\n",
       "    <tr>\n",
       "      <th>2</th>\n",
       "      <td>The Arizona Department of Health Services has ...</td>\n",
       "      <td>0</td>\n",
       "      <td>0</td>\n",
       "    </tr>\n",
       "    <tr>\n",
       "      <th>3</th>\n",
       "      <td>RT @animalag: FFA and 4-H members are lending ...</td>\n",
       "      <td>0</td>\n",
       "      <td>0</td>\n",
       "    </tr>\n",
       "    <tr>\n",
       "      <th>4</th>\n",
       "      <td>As of today, I am officially on the ballot for...</td>\n",
       "      <td>0</td>\n",
       "      <td>0</td>\n",
       "    </tr>\n",
       "  </tbody>\n",
       "</table>\n",
       "</div>"
      ],
      "text/plain": [
       "                                             content covid_final other_final\n",
       "0  Thank you to all those fighting COVID-19 on th...           0           0\n",
       "1  The Arizona Department of Health Services has ...           0           0\n",
       "2  The Arizona Department of Health Services has ...           0           0\n",
       "3  RT @animalag: FFA and 4-H members are lending ...           0           0\n",
       "4  As of today, I am officially on the ballot for...           0           0"
      ]
     },
     "execution_count": 48,
     "metadata": {},
     "output_type": "execute_result"
    }
   ],
   "source": [
    "master.head()"
   ]
  },
  {
   "cell_type": "markdown",
   "metadata": {},
   "source": [
    "Nice. We have almost 4,000 tweets. Let's store all of the tweet texts (and just the tweet texts) in a corpus file."
   ]
  },
  {
   "cell_type": "code",
   "execution_count": 49,
   "metadata": {},
   "outputs": [],
   "source": [
    "corpus = master['content'].copy()"
   ]
  },
  {
   "cell_type": "code",
   "execution_count": 51,
   "metadata": {},
   "outputs": [],
   "source": [
    "corpus.to_csv('data/corpus.csv', index=False, header=True)"
   ]
  },
  {
   "cell_type": "code",
   "execution_count": 52,
   "metadata": {},
   "outputs": [
    {
     "data": {
      "text/html": [
       "<div>\n",
       "<style scoped>\n",
       "    .dataframe tbody tr th:only-of-type {\n",
       "        vertical-align: middle;\n",
       "    }\n",
       "\n",
       "    .dataframe tbody tr th {\n",
       "        vertical-align: top;\n",
       "    }\n",
       "\n",
       "    .dataframe thead th {\n",
       "        text-align: right;\n",
       "    }\n",
       "</style>\n",
       "<table border=\"1\" class=\"dataframe\">\n",
       "  <thead>\n",
       "    <tr style=\"text-align: right;\">\n",
       "      <th></th>\n",
       "      <th>content</th>\n",
       "      <th>covid_final</th>\n",
       "      <th>other_final</th>\n",
       "    </tr>\n",
       "  </thead>\n",
       "  <tbody>\n",
       "    <tr>\n",
       "      <th>count</th>\n",
       "      <td>3993</td>\n",
       "      <td>3379</td>\n",
       "      <td>3252</td>\n",
       "    </tr>\n",
       "    <tr>\n",
       "      <th>unique</th>\n",
       "      <td>3987</td>\n",
       "      <td>5</td>\n",
       "      <td>4</td>\n",
       "    </tr>\n",
       "    <tr>\n",
       "      <th>top</th>\n",
       "      <td>RT @WhiteHouse: President @realDonaldTrump jus...</td>\n",
       "      <td>0</td>\n",
       "      <td>0</td>\n",
       "    </tr>\n",
       "    <tr>\n",
       "      <th>freq</th>\n",
       "      <td>2</td>\n",
       "      <td>3134</td>\n",
       "      <td>2962</td>\n",
       "    </tr>\n",
       "  </tbody>\n",
       "</table>\n",
       "</div>"
      ],
      "text/plain": [
       "                                                  content  covid_final  \\\n",
       "count                                                3993         3379   \n",
       "unique                                               3987            5   \n",
       "top     RT @WhiteHouse: President @realDonaldTrump jus...            0   \n",
       "freq                                                    2         3134   \n",
       "\n",
       "        other_final  \n",
       "count          3252  \n",
       "unique            4  \n",
       "top               0  \n",
       "freq           2962  "
      ]
     },
     "execution_count": 52,
     "metadata": {},
     "output_type": "execute_result"
    }
   ],
   "source": [
    "master.describe()"
   ]
  },
  {
   "cell_type": "markdown",
   "metadata": {},
   "source": [
    "Something curious about that description ☝🏻. See the \"unique\" row? Says there are 5 and 4 unique values for `covid_final` and `other_final`. That's suspicious. Let's see what's in those columns:"
   ]
  },
  {
   "cell_type": "code",
   "execution_count": 53,
   "metadata": {},
   "outputs": [
    {
     "data": {
      "text/plain": [
       "array([0, 1, nan, '0', '#DIV/0!', '1'], dtype=object)"
      ]
     },
     "execution_count": 53,
     "metadata": {},
     "output_type": "execute_result"
    }
   ],
   "source": [
    "master.covid_final.unique()"
   ]
  },
  {
   "cell_type": "code",
   "execution_count": 54,
   "metadata": {},
   "outputs": [
    {
     "data": {
      "text/plain": [
       "array([0, nan, 1.0, '0', '#DIV/0!'], dtype=object)"
      ]
     },
     "execution_count": 54,
     "metadata": {},
     "output_type": "execute_result"
    }
   ],
   "source": [
    "master.other_final.unique()"
   ]
  },
  {
   "cell_type": "markdown",
   "metadata": {},
   "source": [
    "Ah, yes, we need to clearn those up. We have invalid values and also numbers represented as strings (that's what the quotation marks indicate.\n",
    "\n",
    "First, let's get rid of any row that has a `nan` which means \"not a number\" and really indicates missing data. These are boxes we didn't fill out."
   ]
  },
  {
   "cell_type": "code",
   "execution_count": 55,
   "metadata": {},
   "outputs": [],
   "source": [
    "## Drop rows with any blanks (nan)\n",
    "master.dropna(inplace=True)"
   ]
  },
  {
   "cell_type": "code",
   "execution_count": 56,
   "metadata": {},
   "outputs": [
    {
     "data": {
      "text/html": [
       "<div>\n",
       "<style scoped>\n",
       "    .dataframe tbody tr th:only-of-type {\n",
       "        vertical-align: middle;\n",
       "    }\n",
       "\n",
       "    .dataframe tbody tr th {\n",
       "        vertical-align: top;\n",
       "    }\n",
       "\n",
       "    .dataframe thead th {\n",
       "        text-align: right;\n",
       "    }\n",
       "</style>\n",
       "<table border=\"1\" class=\"dataframe\">\n",
       "  <thead>\n",
       "    <tr style=\"text-align: right;\">\n",
       "      <th></th>\n",
       "      <th>content</th>\n",
       "      <th>covid_final</th>\n",
       "      <th>other_final</th>\n",
       "    </tr>\n",
       "  </thead>\n",
       "  <tbody>\n",
       "    <tr>\n",
       "      <th>count</th>\n",
       "      <td>3216</td>\n",
       "      <td>3216</td>\n",
       "      <td>3216</td>\n",
       "    </tr>\n",
       "    <tr>\n",
       "      <th>unique</th>\n",
       "      <td>3211</td>\n",
       "      <td>5</td>\n",
       "      <td>4</td>\n",
       "    </tr>\n",
       "    <tr>\n",
       "      <th>top</th>\n",
       "      <td>Join me in asking Congress to implement nation...</td>\n",
       "      <td>0</td>\n",
       "      <td>0</td>\n",
       "    </tr>\n",
       "    <tr>\n",
       "      <th>freq</th>\n",
       "      <td>2</td>\n",
       "      <td>2976</td>\n",
       "      <td>2931</td>\n",
       "    </tr>\n",
       "  </tbody>\n",
       "</table>\n",
       "</div>"
      ],
      "text/plain": [
       "                                                  content  covid_final  \\\n",
       "count                                                3216         3216   \n",
       "unique                                               3211            5   \n",
       "top     Join me in asking Congress to implement nation...            0   \n",
       "freq                                                    2         2976   \n",
       "\n",
       "        other_final  \n",
       "count          3216  \n",
       "unique            4  \n",
       "top               0  \n",
       "freq           2931  "
      ]
     },
     "execution_count": 56,
     "metadata": {},
     "output_type": "execute_result"
    }
   ],
   "source": [
    "master.describe()"
   ]
  },
  {
   "cell_type": "markdown",
   "metadata": {},
   "source": [
    "We lost about 800 rows there! That's okay. We're still good. Now let's get rid of rows where there's a `#DIV/0!` error there. That's because we tried to run our scoring formula against some blank data."
   ]
  },
  {
   "cell_type": "code",
   "execution_count": 57,
   "metadata": {},
   "outputs": [],
   "source": [
    "master = master[master.covid_final != '#DIV/0!']"
   ]
  },
  {
   "cell_type": "code",
   "execution_count": 58,
   "metadata": {},
   "outputs": [],
   "source": [
    "master = master[master.other_final != '#DIV/0!']"
   ]
  },
  {
   "cell_type": "code",
   "execution_count": 59,
   "metadata": {},
   "outputs": [
    {
     "data": {
      "text/html": [
       "<div>\n",
       "<style scoped>\n",
       "    .dataframe tbody tr th:only-of-type {\n",
       "        vertical-align: middle;\n",
       "    }\n",
       "\n",
       "    .dataframe tbody tr th {\n",
       "        vertical-align: top;\n",
       "    }\n",
       "\n",
       "    .dataframe thead th {\n",
       "        text-align: right;\n",
       "    }\n",
       "</style>\n",
       "<table border=\"1\" class=\"dataframe\">\n",
       "  <thead>\n",
       "    <tr style=\"text-align: right;\">\n",
       "      <th></th>\n",
       "      <th>content</th>\n",
       "      <th>covid_final</th>\n",
       "      <th>other_final</th>\n",
       "    </tr>\n",
       "  </thead>\n",
       "  <tbody>\n",
       "    <tr>\n",
       "      <th>count</th>\n",
       "      <td>3215</td>\n",
       "      <td>3215</td>\n",
       "      <td>3215</td>\n",
       "    </tr>\n",
       "    <tr>\n",
       "      <th>unique</th>\n",
       "      <td>3210</td>\n",
       "      <td>4</td>\n",
       "      <td>3</td>\n",
       "    </tr>\n",
       "    <tr>\n",
       "      <th>top</th>\n",
       "      <td>Join me in asking Congress to implement nation...</td>\n",
       "      <td>0</td>\n",
       "      <td>0</td>\n",
       "    </tr>\n",
       "    <tr>\n",
       "      <th>freq</th>\n",
       "      <td>2</td>\n",
       "      <td>2976</td>\n",
       "      <td>2931</td>\n",
       "    </tr>\n",
       "  </tbody>\n",
       "</table>\n",
       "</div>"
      ],
      "text/plain": [
       "                                                  content  covid_final  \\\n",
       "count                                                3215         3215   \n",
       "unique                                               3210            4   \n",
       "top     Join me in asking Congress to implement nation...            0   \n",
       "freq                                                    2         2976   \n",
       "\n",
       "        other_final  \n",
       "count          3215  \n",
       "unique            3  \n",
       "top               0  \n",
       "freq           2931  "
      ]
     },
     "execution_count": 59,
     "metadata": {},
     "output_type": "execute_result"
    }
   ],
   "source": [
    "master.describe()"
   ]
  },
  {
   "cell_type": "code",
   "execution_count": 60,
   "metadata": {},
   "outputs": [
    {
     "data": {
      "text/plain": [
       "array([0, 1, '0', '1'], dtype=object)"
      ]
     },
     "execution_count": 60,
     "metadata": {},
     "output_type": "execute_result"
    }
   ],
   "source": [
    "master.covid_final.unique()"
   ]
  },
  {
   "cell_type": "markdown",
   "metadata": {},
   "source": [
    "Nice. So now we have both numbers and strings -- so the number 1 and the \"word\" '1'. Let's make a new column called \"covid\" that will be `True` if \"covid_final\" is in the group `[1, '1']`:"
   ]
  },
  {
   "cell_type": "code",
   "execution_count": 61,
   "metadata": {},
   "outputs": [],
   "source": [
    "master['covid'] = master['covid_final'].isin([1 , '1'])"
   ]
  },
  {
   "cell_type": "markdown",
   "metadata": {},
   "source": [
    "And the same for \"other\" and \"other_final\":"
   ]
  },
  {
   "cell_type": "code",
   "execution_count": 62,
   "metadata": {},
   "outputs": [],
   "source": [
    "master['other'] = master['other_final'].isin([1, '1'])"
   ]
  },
  {
   "cell_type": "code",
   "execution_count": 63,
   "metadata": {},
   "outputs": [
    {
     "data": {
      "text/html": [
       "<div>\n",
       "<style scoped>\n",
       "    .dataframe tbody tr th:only-of-type {\n",
       "        vertical-align: middle;\n",
       "    }\n",
       "\n",
       "    .dataframe tbody tr th {\n",
       "        vertical-align: top;\n",
       "    }\n",
       "\n",
       "    .dataframe thead th {\n",
       "        text-align: right;\n",
       "    }\n",
       "</style>\n",
       "<table border=\"1\" class=\"dataframe\">\n",
       "  <thead>\n",
       "    <tr style=\"text-align: right;\">\n",
       "      <th></th>\n",
       "      <th>content</th>\n",
       "      <th>covid_final</th>\n",
       "      <th>other_final</th>\n",
       "      <th>covid</th>\n",
       "      <th>other</th>\n",
       "    </tr>\n",
       "  </thead>\n",
       "  <tbody>\n",
       "    <tr>\n",
       "      <th>count</th>\n",
       "      <td>3215</td>\n",
       "      <td>3215</td>\n",
       "      <td>3215</td>\n",
       "      <td>3215</td>\n",
       "      <td>3215</td>\n",
       "    </tr>\n",
       "    <tr>\n",
       "      <th>unique</th>\n",
       "      <td>3210</td>\n",
       "      <td>4</td>\n",
       "      <td>3</td>\n",
       "      <td>2</td>\n",
       "      <td>2</td>\n",
       "    </tr>\n",
       "    <tr>\n",
       "      <th>top</th>\n",
       "      <td>Join me in asking Congress to implement nation...</td>\n",
       "      <td>0</td>\n",
       "      <td>0</td>\n",
       "      <td>False</td>\n",
       "      <td>False</td>\n",
       "    </tr>\n",
       "    <tr>\n",
       "      <th>freq</th>\n",
       "      <td>2</td>\n",
       "      <td>2976</td>\n",
       "      <td>2931</td>\n",
       "      <td>3034</td>\n",
       "      <td>2990</td>\n",
       "    </tr>\n",
       "  </tbody>\n",
       "</table>\n",
       "</div>"
      ],
      "text/plain": [
       "                                                  content  covid_final  \\\n",
       "count                                                3215         3215   \n",
       "unique                                               3210            4   \n",
       "top     Join me in asking Congress to implement nation...            0   \n",
       "freq                                                    2         2976   \n",
       "\n",
       "        other_final  covid  other  \n",
       "count          3215   3215   3215  \n",
       "unique            3      2      2  \n",
       "top               0  False  False  \n",
       "freq           2931   3034   2990  "
      ]
     },
     "execution_count": 63,
     "metadata": {},
     "output_type": "execute_result"
    }
   ],
   "source": [
    "master.describe()"
   ]
  },
  {
   "cell_type": "code",
   "execution_count": 64,
   "metadata": {},
   "outputs": [
    {
     "data": {
      "text/html": [
       "<div>\n",
       "<style scoped>\n",
       "    .dataframe tbody tr th:only-of-type {\n",
       "        vertical-align: middle;\n",
       "    }\n",
       "\n",
       "    .dataframe tbody tr th {\n",
       "        vertical-align: top;\n",
       "    }\n",
       "\n",
       "    .dataframe thead th {\n",
       "        text-align: right;\n",
       "    }\n",
       "</style>\n",
       "<table border=\"1\" class=\"dataframe\">\n",
       "  <thead>\n",
       "    <tr style=\"text-align: right;\">\n",
       "      <th></th>\n",
       "      <th>content</th>\n",
       "      <th>covid_final</th>\n",
       "      <th>other_final</th>\n",
       "      <th>covid</th>\n",
       "      <th>other</th>\n",
       "    </tr>\n",
       "  </thead>\n",
       "  <tbody>\n",
       "    <tr>\n",
       "      <th>0</th>\n",
       "      <td>Thank you to all those fighting COVID-19 on th...</td>\n",
       "      <td>0</td>\n",
       "      <td>0</td>\n",
       "      <td>False</td>\n",
       "      <td>False</td>\n",
       "    </tr>\n",
       "    <tr>\n",
       "      <th>1</th>\n",
       "      <td>The Arizona Department of Health Services has ...</td>\n",
       "      <td>0</td>\n",
       "      <td>0</td>\n",
       "      <td>False</td>\n",
       "      <td>False</td>\n",
       "    </tr>\n",
       "    <tr>\n",
       "      <th>2</th>\n",
       "      <td>The Arizona Department of Health Services has ...</td>\n",
       "      <td>0</td>\n",
       "      <td>0</td>\n",
       "      <td>False</td>\n",
       "      <td>False</td>\n",
       "    </tr>\n",
       "    <tr>\n",
       "      <th>3</th>\n",
       "      <td>RT @animalag: FFA and 4-H members are lending ...</td>\n",
       "      <td>0</td>\n",
       "      <td>0</td>\n",
       "      <td>False</td>\n",
       "      <td>False</td>\n",
       "    </tr>\n",
       "    <tr>\n",
       "      <th>4</th>\n",
       "      <td>As of today, I am officially on the ballot for...</td>\n",
       "      <td>0</td>\n",
       "      <td>0</td>\n",
       "      <td>False</td>\n",
       "      <td>False</td>\n",
       "    </tr>\n",
       "    <tr>\n",
       "      <th>...</th>\n",
       "      <td>...</td>\n",
       "      <td>...</td>\n",
       "      <td>...</td>\n",
       "      <td>...</td>\n",
       "      <td>...</td>\n",
       "    </tr>\n",
       "    <tr>\n",
       "      <th>3997</th>\n",
       "      <td>We NEED supplies: Day 1 of our #coronavirus wo...</td>\n",
       "      <td>0</td>\n",
       "      <td>0</td>\n",
       "      <td>False</td>\n",
       "      <td>False</td>\n",
       "    </tr>\n",
       "    <tr>\n",
       "      <th>3998</th>\n",
       "      <td>In #TX10, people are missing paychecks and won...</td>\n",
       "      <td>1</td>\n",
       "      <td>1</td>\n",
       "      <td>True</td>\n",
       "      <td>True</td>\n",
       "    </tr>\n",
       "    <tr>\n",
       "      <th>3999</th>\n",
       "      <td>#TX10 communities: please, listen to the advic...</td>\n",
       "      <td>0</td>\n",
       "      <td>0</td>\n",
       "      <td>False</td>\n",
       "      <td>False</td>\n",
       "    </tr>\n",
       "    <tr>\n",
       "      <th>4000</th>\n",
       "      <td>CD23:  LET’S DEBATE THE ISSUES!\\n\\nThank You G...</td>\n",
       "      <td>0</td>\n",
       "      <td>0</td>\n",
       "      <td>False</td>\n",
       "      <td>False</td>\n",
       "    </tr>\n",
       "    <tr>\n",
       "      <th>4001</th>\n",
       "      <td>DIST 23:  Don’t let them insult your intellige...</td>\n",
       "      <td>0</td>\n",
       "      <td>1</td>\n",
       "      <td>False</td>\n",
       "      <td>True</td>\n",
       "    </tr>\n",
       "  </tbody>\n",
       "</table>\n",
       "<p>3215 rows × 5 columns</p>\n",
       "</div>"
      ],
      "text/plain": [
       "                                                content covid_final  \\\n",
       "0     Thank you to all those fighting COVID-19 on th...           0   \n",
       "1     The Arizona Department of Health Services has ...           0   \n",
       "2     The Arizona Department of Health Services has ...           0   \n",
       "3     RT @animalag: FFA and 4-H members are lending ...           0   \n",
       "4     As of today, I am officially on the ballot for...           0   \n",
       "...                                                 ...         ...   \n",
       "3997  We NEED supplies: Day 1 of our #coronavirus wo...           0   \n",
       "3998  In #TX10, people are missing paychecks and won...           1   \n",
       "3999  #TX10 communities: please, listen to the advic...           0   \n",
       "4000  CD23:  LET’S DEBATE THE ISSUES!\\n\\nThank You G...           0   \n",
       "4001  DIST 23:  Don’t let them insult your intellige...           0   \n",
       "\n",
       "     other_final  covid  other  \n",
       "0              0  False  False  \n",
       "1              0  False  False  \n",
       "2              0  False  False  \n",
       "3              0  False  False  \n",
       "4              0  False  False  \n",
       "...          ...    ...    ...  \n",
       "3997           0  False  False  \n",
       "3998           1   True   True  \n",
       "3999           0  False  False  \n",
       "4000           0  False  False  \n",
       "4001           1  False   True  \n",
       "\n",
       "[3215 rows x 5 columns]"
      ]
     },
     "execution_count": 64,
     "metadata": {},
     "output_type": "execute_result"
    }
   ],
   "source": [
    "master"
   ]
  },
  {
   "cell_type": "markdown",
   "metadata": {},
   "source": [
    "We can double-check to make sure all we have are `True`s and `False`s with the next line.\n",
    "\n",
    "Note: `master.other` is just a cleaner way of writing `master['other']`. They're the same thing."
   ]
  },
  {
   "cell_type": "code",
   "execution_count": 41,
   "metadata": {},
   "outputs": [
    {
     "data": {
      "text/plain": [
       "(array([False,  True]), array([False,  True]))"
      ]
     },
     "execution_count": 41,
     "metadata": {},
     "output_type": "execute_result"
    }
   ],
   "source": [
    "master.other.unique(), master.covid.unique()"
   ]
  },
  {
   "cell_type": "markdown",
   "metadata": {},
   "source": [
    "Now we're finally to the point we were trying to get to Wednesday :-)\n",
    "\n",
    "In pandas, if you have a _boolean_ -- that is, a variable that's True or False -- you can do a lot of fun things!\n",
    "\n",
    "The English version of the next line is: \"For every row, show True if `master.covid` is True OR `master.other` is True.\" The pandas symbol for \"or\" is `|`."
   ]
  },
  {
   "cell_type": "code",
   "execution_count": 42,
   "metadata": {},
   "outputs": [
    {
     "data": {
      "text/plain": [
       "0       False\n",
       "1       False\n",
       "2       False\n",
       "3       False\n",
       "4       False\n",
       "        ...  \n",
       "3997    False\n",
       "3998     True\n",
       "3999    False\n",
       "4000    False\n",
       "4001     True\n",
       "Length: 3215, dtype: bool"
      ]
     },
     "execution_count": 42,
     "metadata": {},
     "output_type": "execute_result"
    }
   ],
   "source": [
    "(master.covid | master.other)"
   ]
  },
  {
   "cell_type": "markdown",
   "metadata": {},
   "source": [
    "Pretty slick, right? You can scroll up to see from the last 5 lines on the table above that it worked.\n",
    "\n",
    "Let's add a column called `either` that contains those values."
   ]
  },
  {
   "cell_type": "code",
   "execution_count": 43,
   "metadata": {},
   "outputs": [],
   "source": [
    "master['either'] = (master.covid | master.other)"
   ]
  },
  {
   "cell_type": "code",
   "execution_count": 44,
   "metadata": {},
   "outputs": [
    {
     "data": {
      "text/html": [
       "<div>\n",
       "<style scoped>\n",
       "    .dataframe tbody tr th:only-of-type {\n",
       "        vertical-align: middle;\n",
       "    }\n",
       "\n",
       "    .dataframe tbody tr th {\n",
       "        vertical-align: top;\n",
       "    }\n",
       "\n",
       "    .dataframe thead th {\n",
       "        text-align: right;\n",
       "    }\n",
       "</style>\n",
       "<table border=\"1\" class=\"dataframe\">\n",
       "  <thead>\n",
       "    <tr style=\"text-align: right;\">\n",
       "      <th></th>\n",
       "      <th>content</th>\n",
       "      <th>covid_final</th>\n",
       "      <th>other_final</th>\n",
       "      <th>covid</th>\n",
       "      <th>other</th>\n",
       "      <th>either</th>\n",
       "    </tr>\n",
       "  </thead>\n",
       "  <tbody>\n",
       "    <tr>\n",
       "      <th>0</th>\n",
       "      <td>Thank you to all those fighting COVID-19 on th...</td>\n",
       "      <td>0</td>\n",
       "      <td>0</td>\n",
       "      <td>False</td>\n",
       "      <td>False</td>\n",
       "      <td>False</td>\n",
       "    </tr>\n",
       "    <tr>\n",
       "      <th>1</th>\n",
       "      <td>The Arizona Department of Health Services has ...</td>\n",
       "      <td>0</td>\n",
       "      <td>0</td>\n",
       "      <td>False</td>\n",
       "      <td>False</td>\n",
       "      <td>False</td>\n",
       "    </tr>\n",
       "    <tr>\n",
       "      <th>2</th>\n",
       "      <td>The Arizona Department of Health Services has ...</td>\n",
       "      <td>0</td>\n",
       "      <td>0</td>\n",
       "      <td>False</td>\n",
       "      <td>False</td>\n",
       "      <td>False</td>\n",
       "    </tr>\n",
       "    <tr>\n",
       "      <th>3</th>\n",
       "      <td>RT @animalag: FFA and 4-H members are lending ...</td>\n",
       "      <td>0</td>\n",
       "      <td>0</td>\n",
       "      <td>False</td>\n",
       "      <td>False</td>\n",
       "      <td>False</td>\n",
       "    </tr>\n",
       "    <tr>\n",
       "      <th>4</th>\n",
       "      <td>As of today, I am officially on the ballot for...</td>\n",
       "      <td>0</td>\n",
       "      <td>0</td>\n",
       "      <td>False</td>\n",
       "      <td>False</td>\n",
       "      <td>False</td>\n",
       "    </tr>\n",
       "    <tr>\n",
       "      <th>...</th>\n",
       "      <td>...</td>\n",
       "      <td>...</td>\n",
       "      <td>...</td>\n",
       "      <td>...</td>\n",
       "      <td>...</td>\n",
       "      <td>...</td>\n",
       "    </tr>\n",
       "    <tr>\n",
       "      <th>3997</th>\n",
       "      <td>We NEED supplies: Day 1 of our #coronavirus wo...</td>\n",
       "      <td>0</td>\n",
       "      <td>0</td>\n",
       "      <td>False</td>\n",
       "      <td>False</td>\n",
       "      <td>False</td>\n",
       "    </tr>\n",
       "    <tr>\n",
       "      <th>3998</th>\n",
       "      <td>In #TX10, people are missing paychecks and won...</td>\n",
       "      <td>1</td>\n",
       "      <td>1</td>\n",
       "      <td>True</td>\n",
       "      <td>True</td>\n",
       "      <td>True</td>\n",
       "    </tr>\n",
       "    <tr>\n",
       "      <th>3999</th>\n",
       "      <td>#TX10 communities: please, listen to the advic...</td>\n",
       "      <td>0</td>\n",
       "      <td>0</td>\n",
       "      <td>False</td>\n",
       "      <td>False</td>\n",
       "      <td>False</td>\n",
       "    </tr>\n",
       "    <tr>\n",
       "      <th>4000</th>\n",
       "      <td>CD23:  LET’S DEBATE THE ISSUES!\\n\\nThank You G...</td>\n",
       "      <td>0</td>\n",
       "      <td>0</td>\n",
       "      <td>False</td>\n",
       "      <td>False</td>\n",
       "      <td>False</td>\n",
       "    </tr>\n",
       "    <tr>\n",
       "      <th>4001</th>\n",
       "      <td>DIST 23:  Don’t let them insult your intellige...</td>\n",
       "      <td>0</td>\n",
       "      <td>1</td>\n",
       "      <td>False</td>\n",
       "      <td>True</td>\n",
       "      <td>True</td>\n",
       "    </tr>\n",
       "  </tbody>\n",
       "</table>\n",
       "<p>3215 rows × 6 columns</p>\n",
       "</div>"
      ],
      "text/plain": [
       "                                                content covid_final  \\\n",
       "0     Thank you to all those fighting COVID-19 on th...           0   \n",
       "1     The Arizona Department of Health Services has ...           0   \n",
       "2     The Arizona Department of Health Services has ...           0   \n",
       "3     RT @animalag: FFA and 4-H members are lending ...           0   \n",
       "4     As of today, I am officially on the ballot for...           0   \n",
       "...                                                 ...         ...   \n",
       "3997  We NEED supplies: Day 1 of our #coronavirus wo...           0   \n",
       "3998  In #TX10, people are missing paychecks and won...           1   \n",
       "3999  #TX10 communities: please, listen to the advic...           0   \n",
       "4000  CD23:  LET’S DEBATE THE ISSUES!\\n\\nThank You G...           0   \n",
       "4001  DIST 23:  Don’t let them insult your intellige...           0   \n",
       "\n",
       "     other_final  covid  other  either  \n",
       "0              0  False  False   False  \n",
       "1              0  False  False   False  \n",
       "2              0  False  False   False  \n",
       "3              0  False  False   False  \n",
       "4              0  False  False   False  \n",
       "...          ...    ...    ...     ...  \n",
       "3997           0  False  False   False  \n",
       "3998           1   True   True    True  \n",
       "3999           0  False  False   False  \n",
       "4000           0  False  False   False  \n",
       "4001           1  False   True    True  \n",
       "\n",
       "[3215 rows x 6 columns]"
      ]
     },
     "execution_count": 44,
     "metadata": {},
     "output_type": "execute_result"
    }
   ],
   "source": [
    "master"
   ]
  },
  {
   "cell_type": "markdown",
   "metadata": {},
   "source": [
    "And we'll save that to a CSV called \"scored.csv.\""
   ]
  },
  {
   "cell_type": "code",
   "execution_count": 45,
   "metadata": {},
   "outputs": [],
   "source": [
    "master.to_csv('data/scored.csv', index=False, header=True)"
   ]
  },
  {
   "cell_type": "markdown",
   "metadata": {},
   "source": [
    "Now we have our corpus CSV and our scored CSV and we're ready for the machine learning part. "
   ]
  },
  {
   "cell_type": "code",
   "execution_count": null,
   "metadata": {},
   "outputs": [],
   "source": []
  }
 ],
 "metadata": {
  "kernelspec": {
   "display_name": "Python 3",
   "language": "python",
   "name": "python3"
  },
  "language_info": {
   "codemirror_mode": {
    "name": "ipython",
    "version": 3
   },
   "file_extension": ".py",
   "mimetype": "text/x-python",
   "name": "python",
   "nbconvert_exporter": "python",
   "pygments_lexer": "ipython3",
   "version": "3.8.2"
  }
 },
 "nbformat": 4,
 "nbformat_minor": 4
}
