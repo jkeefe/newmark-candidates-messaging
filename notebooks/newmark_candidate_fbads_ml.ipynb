{
  "nbformat": 4,
  "nbformat_minor": 0,
  "metadata": {
    "accelerator": "GPU",
    "colab": {
      "name": "newmark-candidate-fbads-ml.ipynb",
      "provenance": [],
      "collapsed_sections": []
    },
    "kernelspec": {
      "display_name": "Python 3",
      "language": "python",
      "name": "python3"
    },
    "language_info": {
      "codemirror_mode": {
        "name": "ipython",
        "version": 3
      },
      "file_extension": ".py",
      "mimetype": "text/x-python",
      "name": "python",
      "nbconvert_exporter": "python",
      "pygments_lexer": "ipython3",
      "version": "3.6.0"
    }
  },
  "cells": [
    {
      "cell_type": "markdown",
      "metadata": {
        "colab_type": "text",
        "id": "Q2FtGCN6bVsg"
      },
      "source": [
        "# Finding Fact-checkable Tweets with Machine Learning\n"
      ]
    },
    {
      "cell_type": "markdown",
      "metadata": {
        "id": "fveMUfklKAt8",
        "colab_type": "text"
      },
      "source": [
        "## Overview\n",
        "\n",
        "Our challenge is to find out which tweets with the hashtag `#txlege` are **checkable statements of fact**.\n",
        "\n",
        "Take a look at the [kinds of tweets in question](https://twitter.com/search?q=%23txlege&src=typed_query).\n",
        "\n",
        "Recognizing \"fact-checkability\" seems like it might be a uniquely human skill. But we can make a machine-learning mmodel that does it pretty well.\n",
        "\n",
        "### First, the language model\n",
        "\n",
        "We'll get into the details below, but here's our two-step process for this project:\n",
        "\n",
        "First, we need a model trained to recognize the patterns of English. For that, we'd need some huge dataset of English-language text. Fortunately, someone has already done that for us! We'll be using a model trained on thousands of long Wikipedia articles. It's called [wikitext-103](https://einstein.ai/research/blog/the-wikitext-long-term-dependency-language-modeling-dataset).\n",
        "\n",
        "We'll then use _transfer learning_ (like we did in for the helicopter maps) to further train wikitext-103 on our particular corpus: several thousand #txlege tweets. So we benefit from it's training on both English-language articles _and_ #txlege tweets.\n",
        "\n",
        "That will give us a **language model** that's good at detecting patterns in #txlege tweets.\n",
        "\n",
        "\n",
        "### Second, the classification model\n",
        "\n",
        "Next we need a model that will sort -- aka _classify_ -- tweets into \"fact-checkable\" and \"not fact-checkable.\" This will combine the patern-recognition embedded in the language model and examples of both kinds of tweets to make a predition on which class _new_ tweets belong to. This is our **classification model**.\n",
        "\n",
        "\n",
        "## The Plan\n",
        "\n",
        "Here's what we're going to do:\n",
        "\n",
        "- Grab files with a bunch of tweets\n",
        "- Make a **language model** from a model pretrained on Wikipedia _plus_ all the tweets as we have\n",
        "- Make a **classification model** to predict whether a given tweet is checkable or not, using tweets that were hand-labeled by folks at the Austin American-Statesman.\n",
        "- Use that classification model to predict the checkability of unseen tweets."
      ]
    },
    {
      "cell_type": "markdown",
      "metadata": {
        "id": "7K01TybPKAt9",
        "colab_type": "text"
      },
      "source": [
        "## Credits\n",
        "\n",
        "This notebook was based on one originally created by Jeremy Howard and the other folks at [fast.ai](https://fast.ai) as part of [this fantastic class](https://course.fast.ai/). Specifically, it comes from Lesson 4. You can [see the lession video](https://course.fast.ai/videos/?lesson=4) and [the original class notebook](https://github.com/fastai/course-v3/blob/master/nbs/dl1/lesson3-imdb.ipynb). \n",
        "\n",
        "The idea for the project came from Dan Keemahill at the Austin American-Statesman newspaper. Dan, Madlin Mekelburg, and others at the paper hand-coded the tweets used for the classificaiton training.\n",
        "\n",
        "For more information about this project, and details about how to use this work in the wild, check out our [Quartz AI Studio blog post about the checkable-tweets project](https://qz.ai/?p=89).\n",
        "\n",
        "-- John Keefe, [Quartz](https://qz.com), October 2019"
      ]
    },
    {
      "cell_type": "markdown",
      "metadata": {
        "id": "-43jn3dcKAt9",
        "colab_type": "text"
      },
      "source": [
        "## Setup"
      ]
    },
    {
      "cell_type": "markdown",
      "metadata": {
        "id": "tHuCQQgwKAt-",
        "colab_type": "text"
      },
      "source": [
        "### For those using Google Colaboratory ...\n",
        "\n",
        "Be aware that Google Colab instances are ephemeral -- they vanish *Poof* when you close them, or after a period of sitting idle (currently 90 minutes), or if you use one for more than 12 hours.\n",
        "\n",
        "If you're using Google Colaboratory, be sure to set your runtime to \"GPU\" which speeds up your notebook for machine learning:\n",
        "\n",
        "![change runtime](https://qz-aistudio-public.s3.amazonaws.com/workshops/notebook_images/change_runtime_2.jpg)\n",
        "![pick gpu](https://qz-aistudio-public.s3.amazonaws.com/workshops/notebook_images/pick_gpu_2.jpg)\n",
        "\n",
        "Then run this cell:"
      ]
    },
    {
      "cell_type": "code",
      "metadata": {
        "id": "27X2fIFLKAt_",
        "colab_type": "code",
        "outputId": "bccc5ab1-d1aa-41eb-c0df-6b87d79f5f2a",
        "colab": {
          "base_uri": "https://localhost:8080/",
          "height": 52
        }
      },
      "source": [
        "## ALL GOOGLE COLAB USERS RUN THIS CELL\n",
        "\n",
        "## This runs a script that installs fast.ai\n",
        "!curl -s https://course.fast.ai/setup/colab | bash"
      ],
      "execution_count": 1,
      "outputs": [
        {
          "output_type": "stream",
          "text": [
            "Updating fastai...\n",
            "Done.\n"
          ],
          "name": "stdout"
        }
      ]
    },
    {
      "cell_type": "markdown",
      "metadata": {
        "id": "Rb5MHkaGKAuE",
        "colab_type": "text"
      },
      "source": [
        "### For those _not_ using Google Colaboratory ...\n",
        "\n",
        "This section is just for people who decide to use one of the notebooks on a system other than Google Colaboartory. \n",
        "\n",
        "Those people should run the cell below."
      ]
    },
    {
      "cell_type": "code",
      "metadata": {
        "id": "yEaveBpwKAuF",
        "colab_type": "code",
        "colab": {}
      },
      "source": [
        "## NON-COLABORATORY USERS SHOULD RUN THIS CELL\n",
        "%reload_ext autoreload\n",
        "%autoreload 2\n",
        "%matplotlib inline"
      ],
      "execution_count": 0,
      "outputs": []
    },
    {
      "cell_type": "markdown",
      "metadata": {
        "id": "u8pBM_VSKAuO",
        "colab_type": "text"
      },
      "source": [
        "### Everybody do this ..."
      ]
    },
    {
      "cell_type": "markdown",
      "metadata": {
        "id": "_-66OxTIKAuO",
        "colab_type": "text"
      },
      "source": [
        "Everyone needs to run the next cell, which initializes the Python libraries we'll use in this notebook."
      ]
    },
    {
      "cell_type": "code",
      "metadata": {
        "id": "aOKL5JRIKAuP",
        "colab_type": "code",
        "outputId": "b1fa660c-134d-411d-fe42-2d5625aa7bda",
        "colab": {
          "base_uri": "https://localhost:8080/",
          "height": 52
        }
      },
      "source": [
        "## AND *EVERYBODY* SHOULD RUN THIS CELL\n",
        "import warnings\n",
        "warnings.filterwarnings('ignore')\n",
        "from fastai.text import *\n",
        "import fastai\n",
        "print(f'fastai: {fastai.__version__}')\n",
        "print(f'cuda: {torch.cuda.is_available()}')"
      ],
      "execution_count": 2,
      "outputs": [
        {
          "output_type": "stream",
          "text": [
            "fastai: 1.0.61\n",
            "cuda: True\n"
          ],
          "name": "stdout"
        }
      ]
    },
    {
      "cell_type": "markdown",
      "metadata": {
        "id": "icx8GPCwKAuV",
        "colab_type": "text"
      },
      "source": [
        "## The Data"
      ]
    },
    {
      "cell_type": "markdown",
      "metadata": {
        "id": "fpGD29R1KAuW",
        "colab_type": "text"
      },
      "source": [
        "We're going to be using two sets of tweets for this project:\n",
        "\n",
        "- A CSV (comma-separated values file) containing a bunch of #txlege tweets\n",
        "- A CSV of #txlege tweets that have been hand-coded as \"fact-checkable\" or \"not fact-checkable\"\n"
      ]
    },
    {
      "cell_type": "code",
      "metadata": {
        "scrolled": true,
        "id": "u-geWZpnKAuW",
        "colab_type": "code",
        "outputId": "3a496386-b2ec-482e-e42e-45ba14b84adb",
        "colab": {
          "base_uri": "https://localhost:8080/",
          "height": 35
        }
      },
      "source": [
        "# Run this cell to download the data we'll use for this exercise\n",
        "!wget -N https://s3.amazonaws.com/media.johnkeefe.net/newmark-investigations/ads_corpus.csv --quiet\n",
        "!wget -N https://s3.amazonaws.com/media.johnkeefe.net/newmark-investigations/ads_scored.csv --quiet\n",
        "print('Done!')"
      ],
      "execution_count": 3,
      "outputs": [
        {
          "output_type": "stream",
          "text": [
            "Done!\n"
          ],
          "name": "stdout"
        }
      ]
    },
    {
      "cell_type": "markdown",
      "metadata": {
        "id": "J00lMZjlKAuZ",
        "colab_type": "text"
      },
      "source": [
        "Let's take a look."
      ]
    },
    {
      "cell_type": "code",
      "metadata": {
        "id": "CV0uM9iNKAua",
        "colab_type": "code",
        "outputId": "b2a4d0a4-9d7b-451c-d59b-e515ac2c5312",
        "colab": {
          "base_uri": "https://localhost:8080/",
          "height": 35
        }
      },
      "source": [
        "%ls"
      ],
      "execution_count": 4,
      "outputs": [
        {
          "output_type": "stream",
          "text": [
            "ads_corpus.csv  ads_scored.csv  \u001b[0m\u001b[01;36mdata\u001b[0m@  \u001b[01;36mmodels\u001b[0m@\n"
          ],
          "name": "stdout"
        }
      ]
    },
    {
      "cell_type": "markdown",
      "metadata": {
        "colab_type": "text",
        "id": "9TPvnzypbVsq"
      },
      "source": [
        "### Take a peek at the tweet data"
      ]
    },
    {
      "cell_type": "markdown",
      "metadata": {
        "colab_type": "text",
        "id": "I21aOI9xbVsr"
      },
      "source": [
        "Working with Dan Keemahill and Madlin Mekelburg over a couple of weeks during the 2019 Texas state legislative session, I have have a set of 3,797 tweets humans at the Austin American-Statesman have determined are – or are not – statements that can be fact-checked. "
      ]
    },
    {
      "cell_type": "code",
      "metadata": {
        "colab_type": "code",
        "id": "kWwuVUg9QHo8",
        "outputId": "174ebe62-5087-4c81-e429-4282c860517b",
        "colab": {
          "base_uri": "https://localhost:8080/",
          "height": 198
        }
      },
      "source": [
        "# Here I read the csv into a data frame I called `austin_tweets`\n",
        "# and take a look at the first few rows\n",
        "data_path = './'\n",
        "hand_coded_tweets = pd.read_csv(data_path + 'ads_scored.csv')\n",
        "hand_coded_tweets.head()"
      ],
      "execution_count": 5,
      "outputs": [
        {
          "output_type": "execute_result",
          "data": {
            "text/html": [
              "<div>\n",
              "<style scoped>\n",
              "    .dataframe tbody tr th:only-of-type {\n",
              "        vertical-align: middle;\n",
              "    }\n",
              "\n",
              "    .dataframe tbody tr th {\n",
              "        vertical-align: top;\n",
              "    }\n",
              "\n",
              "    .dataframe thead th {\n",
              "        text-align: right;\n",
              "    }\n",
              "</style>\n",
              "<table border=\"1\" class=\"dataframe\">\n",
              "  <thead>\n",
              "    <tr style=\"text-align: right;\">\n",
              "      <th></th>\n",
              "      <th>ad_creative_body</th>\n",
              "      <th>covid_final</th>\n",
              "      <th>other_final</th>\n",
              "      <th>covid</th>\n",
              "      <th>other</th>\n",
              "      <th>either</th>\n",
              "    </tr>\n",
              "  </thead>\n",
              "  <tbody>\n",
              "    <tr>\n",
              "      <th>0</th>\n",
              "      <td>Right now we have the momentum to flip this se...</td>\n",
              "      <td>0.0</td>\n",
              "      <td>0.0</td>\n",
              "      <td>False</td>\n",
              "      <td>False</td>\n",
              "      <td>False</td>\n",
              "    </tr>\n",
              "    <tr>\n",
              "      <th>1</th>\n",
              "      <td>I’m an immigrant and conservative woman runnin...</td>\n",
              "      <td>0.0</td>\n",
              "      <td>0.0</td>\n",
              "      <td>False</td>\n",
              "      <td>False</td>\n",
              "      <td>False</td>\n",
              "    </tr>\n",
              "    <tr>\n",
              "      <th>2</th>\n",
              "      <td>Will you rush a contribution to our campaign t...</td>\n",
              "      <td>0.0</td>\n",
              "      <td>0.0</td>\n",
              "      <td>False</td>\n",
              "      <td>False</td>\n",
              "      <td>False</td>\n",
              "    </tr>\n",
              "    <tr>\n",
              "      <th>3</th>\n",
              "      <td>We are taking on the Democrats and their faile...</td>\n",
              "      <td>0.0</td>\n",
              "      <td>0.0</td>\n",
              "      <td>False</td>\n",
              "      <td>False</td>\n",
              "      <td>False</td>\n",
              "    </tr>\n",
              "    <tr>\n",
              "      <th>4</th>\n",
              "      <td>Candidate for U.S. House of Representatives. R...</td>\n",
              "      <td>0.0</td>\n",
              "      <td>1.0</td>\n",
              "      <td>False</td>\n",
              "      <td>True</td>\n",
              "      <td>True</td>\n",
              "    </tr>\n",
              "  </tbody>\n",
              "</table>\n",
              "</div>"
            ],
            "text/plain": [
              "                                    ad_creative_body  ...  either\n",
              "0  Right now we have the momentum to flip this se...  ...   False\n",
              "1  I’m an immigrant and conservative woman runnin...  ...   False\n",
              "2  Will you rush a contribution to our campaign t...  ...   False\n",
              "3  We are taking on the Democrats and their faile...  ...   False\n",
              "4  Candidate for U.S. House of Representatives. R...  ...    True\n",
              "\n",
              "[5 rows x 6 columns]"
            ]
          },
          "metadata": {
            "tags": []
          },
          "execution_count": 5
        }
      ]
    },
    {
      "cell_type": "markdown",
      "metadata": {
        "id": "ULW4TiDjKAul",
        "colab_type": "text"
      },
      "source": [
        "To train the language model, we want a bunch more examples of #txlege tweets. It doesn't matter that we didn't classify them as fact-checkable or not. The language model just needs _examples_ of the kinds of tweets it might see. \n",
        "\n",
        "So I used the website [IFTTT](https://ifttt.com) and Google Spreadsheets to collect several days worth of #txlege tweets. That's what's in the  `tweet_corpus.txt` file we looked at."
      ]
    },
    {
      "cell_type": "code",
      "metadata": {
        "colab_type": "code",
        "id": "18kBCGjhbVvQ",
        "outputId": "04ee1cd9-e22e-46b0-9ac0-96ae7c06716f",
        "colab": {
          "base_uri": "https://localhost:8080/",
          "height": 198
        }
      },
      "source": [
        "# read in the corpus, which has one tweet per row,\n",
        "# and take a look at the first frew rows\n",
        "corpus_tweets = pd.read_csv(data_path + 'ads_corpus.csv')\n",
        "corpus_tweets.head()"
      ],
      "execution_count": 6,
      "outputs": [
        {
          "output_type": "execute_result",
          "data": {
            "text/html": [
              "<div>\n",
              "<style scoped>\n",
              "    .dataframe tbody tr th:only-of-type {\n",
              "        vertical-align: middle;\n",
              "    }\n",
              "\n",
              "    .dataframe tbody tr th {\n",
              "        vertical-align: top;\n",
              "    }\n",
              "\n",
              "    .dataframe thead th {\n",
              "        text-align: right;\n",
              "    }\n",
              "</style>\n",
              "<table border=\"1\" class=\"dataframe\">\n",
              "  <thead>\n",
              "    <tr style=\"text-align: right;\">\n",
              "      <th></th>\n",
              "      <th>ad_creative_body</th>\n",
              "    </tr>\n",
              "  </thead>\n",
              "  <tbody>\n",
              "    <tr>\n",
              "      <th>0</th>\n",
              "      <td>Right now we have the momentum to flip this se...</td>\n",
              "    </tr>\n",
              "    <tr>\n",
              "      <th>1</th>\n",
              "      <td>I’m an immigrant and conservative woman runnin...</td>\n",
              "    </tr>\n",
              "    <tr>\n",
              "      <th>2</th>\n",
              "      <td>Will you rush a contribution to our campaign t...</td>\n",
              "    </tr>\n",
              "    <tr>\n",
              "      <th>3</th>\n",
              "      <td>We are taking on the Democrats and their faile...</td>\n",
              "    </tr>\n",
              "    <tr>\n",
              "      <th>4</th>\n",
              "      <td>Candidate for U.S. House of Representatives. R...</td>\n",
              "    </tr>\n",
              "  </tbody>\n",
              "</table>\n",
              "</div>"
            ],
            "text/plain": [
              "                                    ad_creative_body\n",
              "0  Right now we have the momentum to flip this se...\n",
              "1  I’m an immigrant and conservative woman runnin...\n",
              "2  Will you rush a contribution to our campaign t...\n",
              "3  We are taking on the Democrats and their faile...\n",
              "4  Candidate for U.S. House of Representatives. R..."
            ]
          },
          "metadata": {
            "tags": []
          },
          "execution_count": 6
        }
      ]
    },
    {
      "cell_type": "markdown",
      "metadata": {
        "colab_type": "text",
        "id": "eym6ulq0bVuz"
      },
      "source": [
        "## Building the language model"
      ]
    },
    {
      "cell_type": "markdown",
      "metadata": {
        "colab_type": "text",
        "id": "62pxEwWPbVvI"
      },
      "source": [
        "First we need a model that 'understands' the rules of English, and ideally also recognizes patterns in our particular corpus, the `#txlege` tweets. This is the language model. \n",
        "\n",
        "We'll start with a language model pretrained on a thousands of Wikipedia articles called [wikitext-103](https://einstein.ai/research/blog/the-wikitext-long-term-dependency-language-modeling-dataset). That language model has been trained to guess the next word in a sentence based on all the previous words. It has a recurrent structure with a hidden state that is updated each time it sees a new word. This hidden state thus contains information about the sentence up to that point.\n",
        "\n",
        "For our project, we want to infuse the Wikitext model with our particular dataset – the #txlege tweets. Because the English of #txlege tweets isn't the same as the English of Wikipedia, we'll adjust the internal parameters of the model by a little bit. That includes adding words that might be extremely common in the tweets but would be barely present in wikipedia–and therefore might not be part of the vocabulary the model was trained on."
      ]
    },
    {
      "cell_type": "markdown",
      "metadata": {
        "colab_type": "text",
        "id": "FT0C6-vpbVvK"
      },
      "source": [
        "### Using all of our tweets for the language model\n",
        "\n",
        "We want as many tweets for the language model as possible to learn the patterns of #txlege tweets.\n",
        "\n",
        "We'll start with the text of the 3,797 \"hand-coded\" tweets (though for the language model, we ignore the checkable/not checkable part of that file).\n",
        "\n",
        "To that, we'll add the additional tweets I collected in `tweet_corpus.txt`. We'll mush those all into one big file of tweets."
      ]
    },
    {
      "cell_type": "code",
      "metadata": {
        "colab_type": "code",
        "id": "aQyQIh_vNhrH",
        "outputId": "d2edfaec-5947-4cb6-e370-1b13357c4b1a",
        "colab": {
          "base_uri": "https://localhost:8080/",
          "height": 69
        }
      },
      "source": [
        "# here I concatenate the two tweet sets into one big set\n",
        "lm_tweets = corpus_tweets\n",
        "\n",
        "# as a sanity check, let's look at the size of each set, \n",
        "# and then the ontatenated set\n",
        "print('hand coded tweets:', len(hand_coded_tweets) )\n",
        "print('corpus of tweets:', len(corpus_tweets) )\n",
        "print('total tweets:', len(lm_tweets) )"
      ],
      "execution_count": 7,
      "outputs": [
        {
          "output_type": "stream",
          "text": [
            "hand coded tweets: 302\n",
            "corpus of tweets: 853\n",
            "total tweets: 853\n"
          ],
          "name": "stdout"
        }
      ]
    },
    {
      "cell_type": "code",
      "metadata": {
        "id": "4TQXVe4PLUeX",
        "colab_type": "code",
        "outputId": "376df6f5-cb11-485a-b9fc-461f7c2ce695",
        "colab": {
          "base_uri": "https://localhost:8080/",
          "height": 35
        }
      },
      "source": [
        "lm_tweets.isnull().sum().sum()"
      ],
      "execution_count": 8,
      "outputs": [
        {
          "output_type": "execute_result",
          "data": {
            "text/plain": [
              "96"
            ]
          },
          "metadata": {
            "tags": []
          },
          "execution_count": 8
        }
      ]
    },
    {
      "cell_type": "code",
      "metadata": {
        "id": "zSeubZIqLrPo",
        "colab_type": "code",
        "colab": {}
      },
      "source": [
        "lm_tweets.dropna(inplace=True)"
      ],
      "execution_count": 0,
      "outputs": []
    },
    {
      "cell_type": "code",
      "metadata": {
        "id": "aAIgU3nSL2aj",
        "colab_type": "code",
        "outputId": "cbc20b28-e527-4f89-a0dd-b06a808abbfd",
        "colab": {
          "base_uri": "https://localhost:8080/",
          "height": 35
        }
      },
      "source": [
        "lm_tweets.isnull().sum().sum()"
      ],
      "execution_count": 10,
      "outputs": [
        {
          "output_type": "execute_result",
          "data": {
            "text/plain": [
              "0"
            ]
          },
          "metadata": {
            "tags": []
          },
          "execution_count": 10
        }
      ]
    },
    {
      "cell_type": "code",
      "metadata": {
        "colab_type": "code",
        "id": "pFp92p9NbVvs",
        "colab": {}
      },
      "source": [
        "# Saving as csv for easier reading in a moment\n",
        "lm_tweets.to_csv(data_path + 'lm_tweets.csv', index=False)"
      ],
      "execution_count": 0,
      "outputs": []
    },
    {
      "cell_type": "markdown",
      "metadata": {
        "colab_type": "text",
        "id": "g55U1v3mbVvm"
      },
      "source": [
        "Great: Now we have 7,485 tweets to use for the language model.\n",
        "\n",
        "One thing to note ... the first set had two columns, `checkable` and `tweet_text`, while the corpus had just one collumn,  `tweet_text`. The combined has the original two columns, though many of the entries will be `NaN` for \"not a number.\" Thats okay, because we're only going to use the `tweet_text` column for the language model.\n",
        "\n",
        "\n"
      ]
    },
    {
      "cell_type": "markdown",
      "metadata": {
        "colab_type": "text",
        "id": "3fU_R9lxbVv7"
      },
      "source": [
        "Fast.ai uses a concept called a \"[data bunch](https://docs.fast.ai/basic_data.html)\" to handle machine-learning data, which takes care of a lot of the more fickle machine-learning data preparation.\n",
        "\n",
        "We have to use a special kind of data bunch for the language model, one that ignores the labels, and will shuffle the texts at each epoch before concatenating them all together (only the training set gets shuffled; we don't shuffle for the validation set). It will also create batches that read the text in order with targets (aka the best guesses) that are the next word in the sentence.\n"
      ]
    },
    {
      "cell_type": "code",
      "metadata": {
        "colab_type": "code",
        "id": "C2rJuWVCbVv5",
        "outputId": "775b43ea-9038-4204-95c2-4bb51b456413",
        "colab": {
          "base_uri": "https://localhost:8080/",
          "height": 17
        }
      },
      "source": [
        "# Loading in data with the TextLMDataBunch factory class, using all the defaults\n",
        "data_lm = TextLMDataBunch.from_csv(data_path, 'lm_tweets.csv', text_cols='ad_creative_body', label_cols='either')\n",
        "data_lm.save('data_lm_tweets')"
      ],
      "execution_count": 12,
      "outputs": [
        {
          "output_type": "display_data",
          "data": {
            "text/html": [
              ""
            ],
            "text/plain": [
              "<IPython.core.display.HTML object>"
            ]
          },
          "metadata": {
            "tags": []
          }
        },
        {
          "output_type": "display_data",
          "data": {
            "text/html": [
              ""
            ],
            "text/plain": [
              "<IPython.core.display.HTML object>"
            ]
          },
          "metadata": {
            "tags": []
          }
        }
      ]
    },
    {
      "cell_type": "markdown",
      "metadata": {
        "colab_type": "text",
        "id": "rY0LkJCQbVwF"
      },
      "source": [
        "We can then put all of our tweets (now stored in `data_lm`) into a learner object along with the pretrained Wikitext model -- here called `AWD_LTSM`, which is downloaded the first time you'll execute the following line."
      ]
    },
    {
      "cell_type": "code",
      "metadata": {
        "colab_type": "code",
        "id": "EiiXrA6zbVwH",
        "outputId": "794f716e-d4f8-4d6e-e68a-6485df45f34a",
        "colab": {
          "base_uri": "https://localhost:8080/",
          "height": 35
        }
      },
      "source": [
        "my_model = language_model_learner(data_lm, AWD_LSTM, drop_mult=0.3)"
      ],
      "execution_count": 13,
      "outputs": [
        {
          "output_type": "stream",
          "text": [
            "Downloading https://s3.amazonaws.com/fast-ai-modelzoo/wt103-fwd.tgz\n"
          ],
          "name": "stdout"
        },
        {
          "output_type": "display_data",
          "data": {
            "text/html": [
              ""
            ],
            "text/plain": [
              "<IPython.core.display.HTML object>"
            ]
          },
          "metadata": {
            "tags": []
          }
        }
      ]
    },
    {
      "cell_type": "markdown",
      "metadata": {
        "colab_type": "text",
        "id": "RfAXUyLnOB_J"
      },
      "source": [
        "One of the most important settings when we actually _train_ our model is the **learning rate**. I'm not going to dive into it here (though I encourage you to explore it), but will use a fast.ai tool to find the best learning rate to start with:"
      ]
    },
    {
      "cell_type": "code",
      "metadata": {
        "colab_type": "code",
        "id": "W7b-Z94dbVwL",
        "outputId": "03bb19b9-bcc3-4994-852c-3b30697e79f4",
        "colab": {
          "base_uri": "https://localhost:8080/",
          "height": 381
        }
      },
      "source": [
        "my_model.lr_find()"
      ],
      "execution_count": 14,
      "outputs": [
        {
          "output_type": "display_data",
          "data": {
            "text/html": [
              "\n",
              "    <div>\n",
              "        <style>\n",
              "            /* Turns off some styling */\n",
              "            progress {\n",
              "                /* gets rid of default border in Firefox and Opera. */\n",
              "                border: none;\n",
              "                /* Needs to be in here for Safari polyfill so background images work as expected. */\n",
              "                background-size: auto;\n",
              "            }\n",
              "            .progress-bar-interrupted, .progress-bar-interrupted::-webkit-progress-bar {\n",
              "                background: #F44336;\n",
              "            }\n",
              "        </style>\n",
              "      <progress value='9' class='' max='10' style='width:300px; height:20px; vertical-align: middle;'></progress>\n",
              "      90.00% [9/10 00:08<00:00]\n",
              "    </div>\n",
              "    \n",
              "<table border=\"1\" class=\"dataframe\">\n",
              "  <thead>\n",
              "    <tr style=\"text-align: left;\">\n",
              "      <th>epoch</th>\n",
              "      <th>train_loss</th>\n",
              "      <th>valid_loss</th>\n",
              "      <th>accuracy</th>\n",
              "      <th>time</th>\n",
              "    </tr>\n",
              "  </thead>\n",
              "  <tbody>\n",
              "    <tr>\n",
              "      <td>0</td>\n",
              "      <td>4.879729</td>\n",
              "      <td>#na#</td>\n",
              "      <td>00:01</td>\n",
              "    </tr>\n",
              "    <tr>\n",
              "      <td>1</td>\n",
              "      <td>4.869144</td>\n",
              "      <td>#na#</td>\n",
              "      <td>00:00</td>\n",
              "    </tr>\n",
              "    <tr>\n",
              "      <td>2</td>\n",
              "      <td>4.871795</td>\n",
              "      <td>#na#</td>\n",
              "      <td>00:00</td>\n",
              "    </tr>\n",
              "    <tr>\n",
              "      <td>3</td>\n",
              "      <td>4.865135</td>\n",
              "      <td>#na#</td>\n",
              "      <td>00:00</td>\n",
              "    </tr>\n",
              "    <tr>\n",
              "      <td>4</td>\n",
              "      <td>4.832573</td>\n",
              "      <td>#na#</td>\n",
              "      <td>00:00</td>\n",
              "    </tr>\n",
              "    <tr>\n",
              "      <td>5</td>\n",
              "      <td>4.679532</td>\n",
              "      <td>#na#</td>\n",
              "      <td>00:00</td>\n",
              "    </tr>\n",
              "    <tr>\n",
              "      <td>6</td>\n",
              "      <td>4.335227</td>\n",
              "      <td>#na#</td>\n",
              "      <td>00:00</td>\n",
              "    </tr>\n",
              "    <tr>\n",
              "      <td>7</td>\n",
              "      <td>4.129105</td>\n",
              "      <td>#na#</td>\n",
              "      <td>00:00</td>\n",
              "    </tr>\n",
              "    <tr>\n",
              "      <td>8</td>\n",
              "      <td>8.491113</td>\n",
              "      <td>#na#</td>\n",
              "      <td>00:00</td>\n",
              "    </tr>\n",
              "  </tbody>\n",
              "</table><p>\n",
              "\n",
              "    <div>\n",
              "        <style>\n",
              "            /* Turns off some styling */\n",
              "            progress {\n",
              "                /* gets rid of default border in Firefox and Opera. */\n",
              "                border: none;\n",
              "                /* Needs to be in here for Safari polyfill so background images work as expected. */\n",
              "                background-size: auto;\n",
              "            }\n",
              "            .progress-bar-interrupted, .progress-bar-interrupted::-webkit-progress-bar {\n",
              "                background: #F44336;\n",
              "            }\n",
              "        </style>\n",
              "      <progress value='0' class='' max='11' style='width:300px; height:20px; vertical-align: middle;'></progress>\n",
              "      0.00% [0/11 00:00<00:00]\n",
              "    </div>\n",
              "    "
            ],
            "text/plain": [
              "<IPython.core.display.HTML object>"
            ]
          },
          "metadata": {
            "tags": []
          }
        },
        {
          "output_type": "stream",
          "text": [
            "LR Finder is complete, type {learner_name}.recorder.plot() to see the graph.\n"
          ],
          "name": "stdout"
        }
      ]
    },
    {
      "cell_type": "code",
      "metadata": {
        "colab_type": "code",
        "id": "Un204GpfbVwO",
        "outputId": "ff941990-ad46-418b-8358-205b26d70bd2",
        "colab": {
          "base_uri": "https://localhost:8080/",
          "height": 279
        }
      },
      "source": [
        "my_model.recorder.plot(skip_end=15)"
      ],
      "execution_count": 15,
      "outputs": [
        {
          "output_type": "display_data",
          "data": {
            "image/png": "[encoded data removed]",
            "text/plain": [
              "<Figure size 432x288 with 1 Axes>"
            ]
          },
          "metadata": {
            "tags": [],
            "needs_background": "light"
          }
        }
      ]
    },
    {
      "cell_type": "markdown",
      "metadata": {
        "colab_type": "text",
        "id": "td3D3mK8TtHa"
      },
      "source": [
        "This gives us a graph of the optimal learning rate ... which is the point where the graph really dives downward (`1e-02`). Again, there's much more on picking and learning rates in the fast.ai course."
      ]
    },
    {
      "cell_type": "markdown",
      "metadata": {
        "colab_type": "text",
        "id": "BQA3dZWPachE"
      },
      "source": [
        "Now we can train the Language Model. (Essentailly, we're training it to be good at guessing the *next word* in a sentence, given all of the previous words.)\n",
        "\n",
        "The variabales we're passing are `1` to just do one cycle of learning, the learning rate of `1e-2`, and some momentum settings we won't get into here -- but these are pretty safe. "
      ]
    },
    {
      "cell_type": "code",
      "metadata": {
        "colab_type": "code",
        "id": "pveLnA6kbVwQ",
        "outputId": "792d24ae-183b-43fe-b228-26989c514622",
        "colab": {
          "base_uri": "https://localhost:8080/",
          "height": 78
        }
      },
      "source": [
        "my_model.fit_one_cycle(1, 1e-2, moms=(0.8,0.7))"
      ],
      "execution_count": 16,
      "outputs": [
        {
          "output_type": "display_data",
          "data": {
            "text/html": [
              "<table border=\"1\" class=\"dataframe\">\n",
              "  <thead>\n",
              "    <tr style=\"text-align: left;\">\n",
              "      <th>epoch</th>\n",
              "      <th>train_loss</th>\n",
              "      <th>valid_loss</th>\n",
              "      <th>accuracy</th>\n",
              "      <th>time</th>\n",
              "    </tr>\n",
              "  </thead>\n",
              "  <tbody>\n",
              "    <tr>\n",
              "      <td>0</td>\n",
              "      <td>4.488083</td>\n",
              "      <td>3.957398</td>\n",
              "      <td>0.263988</td>\n",
              "      <td>00:01</td>\n",
              "    </tr>\n",
              "  </tbody>\n",
              "</table>"
            ],
            "text/plain": [
              "<IPython.core.display.HTML object>"
            ]
          },
          "metadata": {
            "tags": []
          }
        }
      ]
    },
    {
      "cell_type": "code",
      "metadata": {
        "colab_type": "code",
        "id": "o-dYIVFcbVwS",
        "outputId": "dfd50f4d-8ddb-42be-cd5f-f499096ca28a",
        "colab": {
          "base_uri": "https://localhost:8080/",
          "height": 78
        }
      },
      "source": [
        "my_model.fit_one_cycle(1, 1e-1, moms=(0.8,0.7))\n"
      ],
      "execution_count": 17,
      "outputs": [
        {
          "output_type": "display_data",
          "data": {
            "text/html": [
              "<table border=\"1\" class=\"dataframe\">\n",
              "  <thead>\n",
              "    <tr style=\"text-align: left;\">\n",
              "      <th>epoch</th>\n",
              "      <th>train_loss</th>\n",
              "      <th>valid_loss</th>\n",
              "      <th>accuracy</th>\n",
              "      <th>time</th>\n",
              "    </tr>\n",
              "  </thead>\n",
              "  <tbody>\n",
              "    <tr>\n",
              "      <td>0</td>\n",
              "      <td>3.479248</td>\n",
              "      <td>3.225801</td>\n",
              "      <td>0.342634</td>\n",
              "      <td>00:01</td>\n",
              "    </tr>\n",
              "  </tbody>\n",
              "</table>"
            ],
            "text/plain": [
              "<IPython.core.display.HTML object>"
            ]
          },
          "metadata": {
            "tags": []
          }
        }
      ]
    },
    {
      "cell_type": "markdown",
      "metadata": {
        "colab_type": "text",
        "id": "M8kZOKSybVwX"
      },
      "source": [
        "To complete the fine-tuning, we \"unfreeze\" the original wikitext-103 language model and let our new training efforts work their way into the original neural network."
      ]
    },
    {
      "cell_type": "code",
      "metadata": {
        "colab_type": "code",
        "id": "kTfuNCuhbVwX",
        "outputId": "760c283a-aa8b-4a7a-8c9c-b87e6d30d678",
        "colab": {
          "base_uri": "https://localhost:8080/",
          "height": 108
        }
      },
      "source": [
        "# This takes a couple of minutes!\n",
        "my_model.unfreeze()\n",
        "my_model.fit_one_cycle(2, 1e-3, moms=(0.8,0.7))"
      ],
      "execution_count": 18,
      "outputs": [
        {
          "output_type": "display_data",
          "data": {
            "text/html": [
              "<table border=\"1\" class=\"dataframe\">\n",
              "  <thead>\n",
              "    <tr style=\"text-align: left;\">\n",
              "      <th>epoch</th>\n",
              "      <th>train_loss</th>\n",
              "      <th>valid_loss</th>\n",
              "      <th>accuracy</th>\n",
              "      <th>time</th>\n",
              "    </tr>\n",
              "  </thead>\n",
              "  <tbody>\n",
              "    <tr>\n",
              "      <td>0</td>\n",
              "      <td>2.533813</td>\n",
              "      <td>3.034903</td>\n",
              "      <td>0.376414</td>\n",
              "      <td>00:01</td>\n",
              "    </tr>\n",
              "    <tr>\n",
              "      <td>1</td>\n",
              "      <td>2.285952</td>\n",
              "      <td>2.958886</td>\n",
              "      <td>0.393527</td>\n",
              "      <td>00:01</td>\n",
              "    </tr>\n",
              "  </tbody>\n",
              "</table>"
            ],
            "text/plain": [
              "<IPython.core.display.HTML object>"
            ]
          },
          "metadata": {
            "tags": []
          }
        }
      ]
    },
    {
      "cell_type": "markdown",
      "metadata": {
        "colab_type": "text",
        "id": "fv0mZuVhbVwd"
      },
      "source": [
        "While our accuracy may _seem_ low ... in this case it means the language model correctly guessed the next word in a sentence more than 1/3 of the time. That's pretty good! And we can see that even when it's wrong, it makes some pretty \"logical\" guesses. \n",
        "\n",
        "Let's give it a starting phrase and see how it does:\n"
      ]
    },
    {
      "cell_type": "code",
      "metadata": {
        "colab_type": "code",
        "id": "_Wws03kmbVwd",
        "outputId": "2927c37e-5b5f-455d-b1c8-2b37ac1389b2",
        "colab": {
          "base_uri": "https://localhost:8080/",
          "height": 124
        }
      },
      "source": [
        "TEXT = \"I want to thank\"\n",
        "N_WORDS = 40\n",
        "N_SENTENCES = 3\n",
        "\n",
        "print(\"\\n\\n\".join(my_model.predict(TEXT, N_WORDS, temperature=0.75) for _ in range(N_SENTENCES)))"
      ],
      "execution_count": 19,
      "outputs": [
        {
          "output_type": "stream",
          "text": [
            "I want to thank you to those who have mine who are ready to fight for them . xxbos The Young Guns program is ready to bring as many males as possible to work hard . What about Jeanne\n",
            "\n",
            "I want to thank you for my successful work . We have a huge amount to work hard to make sure we can work together hard and make ends meet . i will never fight back . i need our help as your\n",
            "\n",
            "I want to thank you for those who have great jobs , and who are not recipients of my prayer for our generation . i will always love that and fight for everyone who will protect and defend our country 's understanding .\n"
          ],
          "name": "stdout"
        }
      ]
    },
    {
      "cell_type": "markdown",
      "metadata": {
        "colab_type": "text",
        "id": "hj3aD0UebVwr"
      },
      "source": [
        "Remember, these are not real ... they were _generated_ by the model when it tried to guess each of the next words in the sentence! Generating text like this is not why we made the language model (though you can see where text-generation AI starts from!)\n",
        "\n",
        "Also note that the model is often crafting the response _in the form of a tweet!_\n",
        "\n",
        "We now save the model's encoder, which is the mathematical representation of what the language model \"understands\" about English patterns infused by our tweets."
      ]
    },
    {
      "cell_type": "code",
      "metadata": {
        "colab_type": "code",
        "id": "thkQAeQ2bVwr",
        "colab": {}
      },
      "source": [
        "my_model.save_encoder('fine_tuned_enc')  "
      ],
      "execution_count": 0,
      "outputs": []
    },
    {
      "cell_type": "markdown",
      "metadata": {
        "colab_type": "text",
        "id": "zt6pDPEDbVww"
      },
      "source": [
        "## Building the classifier model\n",
        "\n",
        "This is the model that will use our langauge model **and** the hand-coded tweets to guess if new tweets are fact-checkable or not.\n",
        "\n",
        "We'll create a new data bunch that only grabs the hand-coded tweets and keeps track of the labels there (true or false, for fact-checkability). We also pass in the `vocab` -- which is the list of the most useful words from the language model."
      ]
    },
    {
      "cell_type": "code",
      "metadata": {
        "colab_type": "code",
        "id": "ntIAhZbbbVw1",
        "outputId": "95cb7f86-bad4-4b40-8a04-dce060c32cd9",
        "colab": {
          "base_uri": "https://localhost:8080/",
          "height": 17
        }
      },
      "source": [
        "data_clas = TextClasDataBunch.from_csv(data_path, 'ads_scored.csv', vocab=data_lm.vocab, text_cols='ad_creative_body', label_cols='either')\n",
        "\n",
        "data_clas.save('data_clas_ads')"
      ],
      "execution_count": 22,
      "outputs": [
        {
          "output_type": "display_data",
          "data": {
            "text/html": [
              ""
            ],
            "text/plain": [
              "<IPython.core.display.HTML object>"
            ]
          },
          "metadata": {
            "tags": []
          }
        },
        {
          "output_type": "display_data",
          "data": {
            "text/html": [
              ""
            ],
            "text/plain": [
              "<IPython.core.display.HTML object>"
            ]
          },
          "metadata": {
            "tags": []
          }
        }
      ]
    },
    {
      "cell_type": "markdown",
      "metadata": {
        "colab_type": "text",
        "id": "WCwf-DyEbVxA"
      },
      "source": [
        "We can then create a model to classify tweets. You can see that in the next two lines we include the processed, hand-coded tweets (`data_clas`), the original Wikitext model (`AWD_LSTM`), and the knowledge we saved after infusing the language model with tweets (`fine_tuned_enc`)."
      ]
    },
    {
      "cell_type": "code",
      "metadata": {
        "colab_type": "code",
        "id": "xlJKU0g3bVxA",
        "colab": {}
      },
      "source": [
        "my_model = text_classifier_learner(data_clas, AWD_LSTM, drop_mult=0.5)\n",
        "my_model.load_encoder('fine_tuned_enc');"
      ],
      "execution_count": 0,
      "outputs": []
    },
    {
      "cell_type": "markdown",
      "metadata": {
        "colab_type": "text",
        "id": "Az5OuN6_hJaF"
      },
      "source": [
        "With neural networks, there are lots of tweaks you can adjust — known as \"hyperparameters\" — such as learning rate and momentum. The fast.ai defaults are pretty great, and the tools it has for finding the learning rate are super useful. I'm going to skip those details here for now. There's more to learn at [qz.ai](https://qz.ai) or at the [this great fast.ai course](https://course.fast.ai/)."
      ]
    },
    {
      "cell_type": "code",
      "metadata": {
        "colab_type": "code",
        "id": "S5g2xmtlbVxJ",
        "outputId": "1e86a5ed-bd83-4937-f270-492f8e88b85d",
        "colab": {
          "base_uri": "https://localhost:8080/",
          "height": 290
        }
      },
      "source": [
        "my_model.fit_one_cycle(2, 1e-2, moms=(0.8,0.7))\n",
        "\n",
        "my_model.freeze_to(-2)\n",
        "my_model.fit_one_cycle(2, slice(1e-2/(2.6**4),1e-2), moms=(0.8,0.7))\n",
        "\n",
        "my_model.freeze_to(-3)\n",
        "my_model.fit_one_cycle(2, slice(5e-3/(2.6**4),5e-3), moms=(0.8,0.7))"
      ],
      "execution_count": 24,
      "outputs": [
        {
          "output_type": "display_data",
          "data": {
            "text/html": [
              "<table border=\"1\" class=\"dataframe\">\n",
              "  <thead>\n",
              "    <tr style=\"text-align: left;\">\n",
              "      <th>epoch</th>\n",
              "      <th>train_loss</th>\n",
              "      <th>valid_loss</th>\n",
              "      <th>accuracy</th>\n",
              "      <th>time</th>\n",
              "    </tr>\n",
              "  </thead>\n",
              "  <tbody>\n",
              "    <tr>\n",
              "      <td>0</td>\n",
              "      <td>0.752460</td>\n",
              "      <td>0.605935</td>\n",
              "      <td>0.770492</td>\n",
              "      <td>00:00</td>\n",
              "    </tr>\n",
              "    <tr>\n",
              "      <td>1</td>\n",
              "      <td>0.650664</td>\n",
              "      <td>0.531502</td>\n",
              "      <td>0.754098</td>\n",
              "      <td>00:00</td>\n",
              "    </tr>\n",
              "  </tbody>\n",
              "</table>"
            ],
            "text/plain": [
              "<IPython.core.display.HTML object>"
            ]
          },
          "metadata": {
            "tags": []
          }
        },
        {
          "output_type": "display_data",
          "data": {
            "text/html": [
              "<table border=\"1\" class=\"dataframe\">\n",
              "  <thead>\n",
              "    <tr style=\"text-align: left;\">\n",
              "      <th>epoch</th>\n",
              "      <th>train_loss</th>\n",
              "      <th>valid_loss</th>\n",
              "      <th>accuracy</th>\n",
              "      <th>time</th>\n",
              "    </tr>\n",
              "  </thead>\n",
              "  <tbody>\n",
              "    <tr>\n",
              "      <td>0</td>\n",
              "      <td>0.496412</td>\n",
              "      <td>0.504360</td>\n",
              "      <td>0.770492</td>\n",
              "      <td>00:01</td>\n",
              "    </tr>\n",
              "    <tr>\n",
              "      <td>1</td>\n",
              "      <td>0.497968</td>\n",
              "      <td>0.505474</td>\n",
              "      <td>0.803279</td>\n",
              "      <td>00:01</td>\n",
              "    </tr>\n",
              "  </tbody>\n",
              "</table>"
            ],
            "text/plain": [
              "<IPython.core.display.HTML object>"
            ]
          },
          "metadata": {
            "tags": []
          }
        },
        {
          "output_type": "display_data",
          "data": {
            "text/html": [
              "<table border=\"1\" class=\"dataframe\">\n",
              "  <thead>\n",
              "    <tr style=\"text-align: left;\">\n",
              "      <th>epoch</th>\n",
              "      <th>train_loss</th>\n",
              "      <th>valid_loss</th>\n",
              "      <th>accuracy</th>\n",
              "      <th>time</th>\n",
              "    </tr>\n",
              "  </thead>\n",
              "  <tbody>\n",
              "    <tr>\n",
              "      <td>0</td>\n",
              "      <td>0.377158</td>\n",
              "      <td>0.480710</td>\n",
              "      <td>0.786885</td>\n",
              "      <td>00:01</td>\n",
              "    </tr>\n",
              "    <tr>\n",
              "      <td>1</td>\n",
              "      <td>0.384232</td>\n",
              "      <td>0.465346</td>\n",
              "      <td>0.786885</td>\n",
              "      <td>00:01</td>\n",
              "    </tr>\n",
              "  </tbody>\n",
              "</table>"
            ],
            "text/plain": [
              "<IPython.core.display.HTML object>"
            ]
          },
          "metadata": {
            "tags": []
          }
        }
      ]
    },
    {
      "cell_type": "markdown",
      "metadata": {
        "colab_type": "text",
        "id": "J-TSQ7iDTdIG"
      },
      "source": [
        "Let's give it an example ...."
      ]
    },
    {
      "cell_type": "code",
      "metadata": {
        "colab_type": "code",
        "id": "mBAXEa2MbVxa",
        "outputId": "53508600-b922-48e1-a745-d46039f8f8d8",
        "colab": {
          "base_uri": "https://localhost:8080/",
          "height": 35
        }
      },
      "source": [
        "example = \"Once again, at the direction of The Squad, @SpeakerPelosi is holding up funding while putting people’s livelihoods on the line so she can fund Green New Deal pet projects. Despicable.\"\n",
        "my_model.predict(example)"
      ],
      "execution_count": 25,
      "outputs": [
        {
          "output_type": "execute_result",
          "data": {
            "text/plain": [
              "(Category tensor(0), tensor(0), tensor([0.6118, 0.3882]))"
            ]
          },
          "metadata": {
            "tags": []
          },
          "execution_count": 25
        }
      ]
    },
    {
      "cell_type": "markdown",
      "metadata": {
        "colab_type": "text",
        "id": "8u1ptJu1UmT9"
      },
      "source": [
        "`1` means true!"
      ]
    },
    {
      "cell_type": "markdown",
      "metadata": {
        "id": "l-GHPbx4KAvl",
        "colab_type": "text"
      },
      "source": [
        "We can open the \"black box\" a little to see what words the model is keying into."
      ]
    },
    {
      "cell_type": "code",
      "metadata": {
        "id": "tzlfnHzgKAvm",
        "colab_type": "code",
        "outputId": "9bef8e64-53d1-41b6-e613-573a38b4a053",
        "colab": {
          "base_uri": "https://localhost:8080/",
          "height": 52
        }
      },
      "source": [
        "interp = TextClassificationInterpretation.from_learner(my_model) \n",
        "interp.show_intrinsic_attention(example)"
      ],
      "execution_count": 0,
      "outputs": [
        {
          "output_type": "display_data",
          "data": {
            "text/html": [
              ""
            ],
            "text/plain": [
              "<IPython.core.display.HTML object>"
            ]
          },
          "metadata": {
            "tags": []
          }
        },
        {
          "output_type": "display_data",
          "data": {
            "text/html": [
              "<span style=\"font-family: monospace;\"><span title=\"0.322\" style=\"background-color: rgba(253, 184, 106, 0.5);\">xxbos</span> <span title=\"0.185\" style=\"background-color: rgba(239, 99, 62, 0.5);\">xxmaj</span> <span title=\"0.593\" style=\"background-color: rgba(219, 240, 143, 0.5);\">once</span> <span title=\"0.259\" style=\"background-color: rgba(249, 147, 84, 0.5);\">again</span> <span title=\"0.195\" style=\"background-color: rgba(241, 104, 64, 0.5);\">,</span> <span title=\"0.202\" style=\"background-color: rgba(244, 109, 67, 0.5);\">at</span> <span title=\"0.176\" style=\"background-color: rgba(237, 94, 60, 0.5);\">the</span> <span title=\"0.346\" style=\"background-color: rgba(253, 196, 115, 0.5);\">direction</span> <span title=\"0.126\" style=\"background-color: rgba(222, 63, 46, 0.5);\">of</span> <span title=\"0.122\" style=\"background-color: rgba(221, 61, 45, 0.5);\">xxmaj</span> <span title=\"0.200\" style=\"background-color: rgba(244, 109, 67, 0.5);\">the</span> <span title=\"0.143\" style=\"background-color: rgba(226, 73, 50, 0.5);\">xxmaj</span> <span title=\"0.706\" style=\"background-color: rgba(162, 215, 105, 0.5);\">squad</span> <span title=\"0.214\" style=\"background-color: rgba(245, 116, 70, 0.5);\">,</span> <span title=\"1.000\" style=\"background-color: rgba(0, 104, 55, 0.5);\">@speakerpelosi</span> <span title=\"0.181\" style=\"background-color: rgba(238, 97, 61, 0.5);\">is</span> <span title=\"0.243\" style=\"background-color: rgba(247, 137, 79, 0.5);\">holding</span> <span title=\"0.160\" style=\"background-color: rgba(231, 82, 54, 0.5);\">up</span> <span title=\"0.262\" style=\"background-color: rgba(249, 149, 85, 0.5);\">funding</span> <span title=\"0.264\" style=\"background-color: rgba(249, 149, 85, 0.5);\">while</span> <span title=\"0.455\" style=\"background-color: rgba(254, 241, 167, 0.5);\">putting</span> <span title=\"0.425\" style=\"background-color: rgba(254, 231, 151, 0.5);\">people</span> <span title=\"0.309\" style=\"background-color: rgba(253, 176, 99, 0.5);\">’s</span> <span title=\"0.620\" style=\"background-color: rgba(207, 234, 132, 0.5);\">livelihoods</span> <span title=\"0.202\" style=\"background-color: rgba(244, 109, 67, 0.5);\">on</span> <span title=\"0.124\" style=\"background-color: rgba(221, 61, 45, 0.5);\">the</span> <span title=\"0.205\" style=\"background-color: rgba(244, 111, 68, 0.5);\">line</span> <span title=\"0.205\" style=\"background-color: rgba(244, 111, 68, 0.5);\">so</span> <span title=\"0.183\" style=\"background-color: rgba(238, 97, 61, 0.5);\">she</span> <span title=\"0.143\" style=\"background-color: rgba(226, 73, 50, 0.5);\">can</span> <span title=\"0.277\" style=\"background-color: rgba(251, 159, 90, 0.5);\">fund</span> <span title=\"0.138\" style=\"background-color: rgba(225, 70, 49, 0.5);\">xxmaj</span> <span title=\"0.332\" style=\"background-color: rgba(253, 188, 109, 0.5);\">green</span> <span title=\"0.112\" style=\"background-color: rgba(217, 53, 41, 0.5);\">xxmaj</span> <span title=\"0.188\" style=\"background-color: rgba(240, 101, 63, 0.5);\">new</span> <span title=\"0.067\" style=\"background-color: rgba(198, 32, 38, 0.5);\">xxmaj</span> <span title=\"0.166\" style=\"background-color: rgba(233, 87, 57, 0.5);\">deal</span> <span title=\"0.081\" style=\"background-color: rgba(204, 37, 38, 0.5);\">xxunk</span> <span title=\"0.177\" style=\"background-color: rgba(237, 94, 60, 0.5);\">projects</span> <span title=\"0.076\" style=\"background-color: rgba(202, 35, 38, 0.5);\">.</span> <span title=\"0.073\" style=\"background-color: rgba(200, 33, 38, 0.5);\">xxmaj</span> <span title=\"0.254\" style=\"background-color: rgba(248, 142, 82, 0.5);\">xxunk</span> <span title=\"0.178\" style=\"background-color: rgba(237, 94, 60, 0.5);\">.</span></span>"
            ],
            "text/plain": [
              "<IPython.core.display.HTML object>"
            ]
          },
          "metadata": {
            "tags": []
          }
        }
      ]
    },
    {
      "cell_type": "markdown",
      "metadata": {
        "id": "0qx4GnrwKAvp",
        "colab_type": "text"
      },
      "source": [
        "Let's save our work."
      ]
    },
    {
      "cell_type": "markdown",
      "metadata": {
        "colab_type": "text",
        "id": "XSOgwF1ybVyh"
      },
      "source": [
        "## Saving to Google Drive\n",
        "\n",
        "At present, your Google Colaboratory Notebook disappears when you close it — along with all of your data. If you'd like to save your model to your Google Drive, run the following cell and grant the permissions it requests."
      ]
    },
    {
      "cell_type": "code",
      "metadata": {
        "id": "NtuaN76CKAvq",
        "colab_type": "code",
        "outputId": "ea62813b-c933-45a6-a68d-9ddd7537a1bb",
        "colab": {
          "base_uri": "https://localhost:8080/",
          "height": 124
        }
      },
      "source": [
        "from google.colab import drive\n",
        "drive.mount('/content/gdrive', force_remount=True)\n",
        "root_dir = \"/content/gdrive/My Drive/\"\n",
        "base_dir = root_dir + 'ai-workshop/candidate_tweets/'\n",
        "save_path = Path(base_dir)\n",
        "save_path.mkdir(parents=True, exist_ok=True)"
      ],
      "execution_count": 27,
      "outputs": [
        {
          "output_type": "stream",
          "text": [
            "Go to this URL in a browser: https://accounts.google.com/o/oauth2/auth?client_id=947318989803-6bn6qk8qdgf4n4g3pfee6491hc0brc4i.apps.googleusercontent.com&redirect_uri=urn%3aietf%3awg%3aoauth%3a2.0%3aoob&response_type=code&scope=email%20https%3a%2f%2fwww.googleapis.com%2fauth%2fdocs.test%20https%3a%2f%2fwww.googleapis.com%2fauth%2fdrive%20https%3a%2f%2fwww.googleapis.com%2fauth%2fdrive.photos.readonly%20https%3a%2f%2fwww.googleapis.com%2fauth%2fpeopleapi.readonly\n",
            "\n",
            "Enter your authorization code:\n",
            "··········\n",
            "Mounted at /content/gdrive\n"
          ],
          "name": "stdout"
        }
      ]
    },
    {
      "cell_type": "markdown",
      "metadata": {
        "id": "uCWJOM1eKAvt",
        "colab_type": "text"
      },
      "source": [
        "The next line will save everything we need for predictions to a file to your Google Drive in the `ai-workshops` folder."
      ]
    },
    {
      "cell_type": "code",
      "metadata": {
        "scrolled": true,
        "id": "B_s3cYJAKAvt",
        "colab_type": "code",
        "colab": {}
      },
      "source": [
        "my_model.export(save_path/\"export-adsmodel.pkl\")"
      ],
      "execution_count": 0,
      "outputs": []
    },
    {
      "cell_type": "markdown",
      "metadata": {
        "id": "zW42zxWEKAvx",
        "colab_type": "text"
      },
      "source": [
        "Later, to load the model into your code, connect to your Google drive using the same block above that starts `from google.colab import drive ...` and then run this:\n",
        "    "
      ]
    },
    {
      "cell_type": "code",
      "metadata": {
        "id": "e2KTqNQyKAvy",
        "colab_type": "code",
        "colab": {}
      },
      "source": [
        "# load the model from the 'export.pkl' file on your Google Drive\n",
        "my_model = load_learner(save_path/\"export-adsmodel.pkl\")  "
      ],
      "execution_count": 0,
      "outputs": []
    },
    {
      "cell_type": "markdown",
      "metadata": {
        "colab_type": "text",
        "id": "57uA-44kVh_T"
      },
      "source": [
        "We used a model built this way to classify #txlege tweets as they were tweeted. For details about deploying a predictor in the cloud using Render, see our [blog post about building the checkable-tweets project](https://qz.ai/?p=89)."
      ]
    }
  ]
}