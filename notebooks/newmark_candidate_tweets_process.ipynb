{
  "nbformat": 4,
  "nbformat_minor": 0,
  "metadata": {
    "colab": {
      "name": "newmark-candidate-tweets-process.ipynb",
      "provenance": [],
      "collapsed_sections": []
    },
    "kernelspec": {
      "display_name": "Python 3",
      "language": "python",
      "name": "python3"
    },
    "language_info": {
      "codemirror_mode": {
        "name": "ipython",
        "version": 3
      },
      "file_extension": ".py",
      "mimetype": "text/x-python",
      "name": "python",
      "nbconvert_exporter": "python",
      "pygments_lexer": "ipython3",
      "version": "3.6.0"
    }
  },
  "cells": [
    {
      "cell_type": "markdown",
      "metadata": {
        "colab_type": "text",
        "id": "Q2FtGCN6bVsg"
      },
      "source": [
        "# Finding Fact-checkable Tweets with Machine Learning\n"
      ]
    },
    {
      "cell_type": "markdown",
      "metadata": {
        "id": "7K01TybPKAt9",
        "colab_type": "text"
      },
      "source": [
        "## Credits\n",
        "\n",
        "This notebook was based on one originally created by Jeremy Howard and the other folks at [fast.ai](https://fast.ai) as part of [this fantastic class](https://course.fast.ai/). Specifically, it comes from Lesson 4. You can [see the lession video](https://course.fast.ai/videos/?lesson=4) and [the original class notebook](https://github.com/fastai/course-v3/blob/master/nbs/dl1/lesson3-imdb.ipynb). \n",
        "\n",
        "The idea for the project came from Dan Keemahill at the Austin American-Statesman newspaper. Dan, Madlin Mekelburg, and others at the paper hand-coded the tweets used for the classificaiton training.\n",
        "\n",
        "For more information about this project, and details about how to use this work in the wild, check out our [Quartz AI Studio blog post about the checkable-tweets project](https://qz.ai/?p=89).\n",
        "\n",
        "-- John Keefe, [Quartz](https://qz.com), October 2019"
      ]
    },
    {
      "cell_type": "markdown",
      "metadata": {
        "id": "-43jn3dcKAt9",
        "colab_type": "text"
      },
      "source": [
        "## Setup"
      ]
    },
    {
      "cell_type": "markdown",
      "metadata": {
        "id": "tHuCQQgwKAt-",
        "colab_type": "text"
      },
      "source": [
        "### For those using Google Colaboratory ...\n",
        "\n",
        "Be aware that Google Colab instances are ephemeral -- they vanish *Poof* when you close them, or after a period of sitting idle (currently 90 minutes), or if you use one for more than 12 hours.\n",
        "\n",
        "If you're using Google Colaboratory, be sure to set your runtime to \"GPU\" which speeds up your notebook for machine learning:\n",
        "\n",
        "![change runtime](https://qz-aistudio-public.s3.amazonaws.com/workshops/notebook_images/change_runtime_2.jpg)\n",
        "![pick gpu](https://qz-aistudio-public.s3.amazonaws.com/workshops/notebook_images/pick_gpu_2.jpg)\n",
        "\n",
        "Then run this cell:"
      ]
    },
    {
      "cell_type": "code",
      "metadata": {
        "id": "27X2fIFLKAt_",
        "colab_type": "code",
        "outputId": "b2de40a7-a500-4bff-fd8a-c7cbd65907e2",
        "colab": {
          "base_uri": "https://localhost:8080/",
          "height": 51
        }
      },
      "source": [
        "## ALL GOOGLE COLAB USERS RUN THIS CELL\n",
        "\n",
        "## This runs a script that installs fast.ai\n",
        "!curl -s https://course.fast.ai/setup/colab | bash"
      ],
      "execution_count": 0,
      "outputs": [
        {
          "output_type": "stream",
          "text": [
            "Updating fastai...\n",
            "Done.\n"
          ],
          "name": "stdout"
        }
      ]
    },
    {
      "cell_type": "markdown",
      "metadata": {
        "id": "Rb5MHkaGKAuE",
        "colab_type": "text"
      },
      "source": [
        "### For those _not_ using Google Colaboratory ...\n",
        "\n",
        "This section is just for people who decide to use one of the notebooks on a system other than Google Colaboartory. \n",
        "\n",
        "Those people should run the cell below."
      ]
    },
    {
      "cell_type": "code",
      "metadata": {
        "id": "yEaveBpwKAuF",
        "colab_type": "code",
        "colab": {}
      },
      "source": [
        "## NON-COLABORATORY USERS SHOULD RUN THIS CELL\n",
        "%reload_ext autoreload\n",
        "%autoreload 2\n",
        "%matplotlib inline"
      ],
      "execution_count": 0,
      "outputs": []
    },
    {
      "cell_type": "markdown",
      "metadata": {
        "id": "u8pBM_VSKAuO",
        "colab_type": "text"
      },
      "source": [
        "### Everybody do this ..."
      ]
    },
    {
      "cell_type": "markdown",
      "metadata": {
        "id": "_-66OxTIKAuO",
        "colab_type": "text"
      },
      "source": [
        "Everyone needs to run the next cell, which initializes the Python libraries we'll use in this notebook."
      ]
    },
    {
      "cell_type": "code",
      "metadata": {
        "id": "aOKL5JRIKAuP",
        "colab_type": "code",
        "outputId": "ea065b99-5a60-4304-f9b1-2f1564f5e623",
        "colab": {
          "base_uri": "https://localhost:8080/",
          "height": 51
        }
      },
      "source": [
        "## AND *EVERYBODY* SHOULD RUN THIS CELL\n",
        "import warnings\n",
        "warnings.filterwarnings('ignore')\n",
        "from fastai.text import *\n",
        "import fastai\n",
        "print(f'fastai: {fastai.__version__}')\n",
        "print(f'cuda: {torch.cuda.is_available()}')"
      ],
      "execution_count": 0,
      "outputs": [
        {
          "output_type": "stream",
          "text": [
            "fastai: 1.0.61\n",
            "cuda: True\n"
          ],
          "name": "stdout"
        }
      ]
    },
    {
      "cell_type": "markdown",
      "metadata": {
        "id": "icx8GPCwKAuV",
        "colab_type": "text"
      },
      "source": [
        "## The Data"
      ]
    },
    {
      "cell_type": "markdown",
      "metadata": {
        "id": "fpGD29R1KAuW",
        "colab_type": "text"
      },
      "source": [
        "We're going to be using two sets of tweets for this project:\n",
        "\n",
        "- A CSV (comma-separated values file) containing a bunch of #txlege tweets\n",
        "- A CSV of #txlege tweets that have been hand-coded as \"fact-checkable\" or \"not fact-checkable\"\n"
      ]
    },
    {
      "cell_type": "code",
      "metadata": {
        "scrolled": true,
        "id": "u-geWZpnKAuW",
        "colab_type": "code",
        "outputId": "c6daa42b-0547-4629-fda7-86abe2002377",
        "colab": {
          "base_uri": "https://localhost:8080/",
          "height": 34
        }
      },
      "source": [
        "# Run this cell to download the data we'll use for this exercise\n",
        "#!wget -N https://s3.amazonaws.com/media.johnkeefe.net/newmark-investigations/unclassified_tweets.zip --quiet\n",
        "#!unzip -q unclassified_tweets.zip\n",
        "\n",
        "!wget -N https://s3.amazonaws.com/media.johnkeefe.net/newmark-investigations/TWITTER_CSV_EXPORTS.zip --quiet\n",
        "!unzip -q TWITTER_CSV_EXPORTS.zip\n",
        "\n",
        "print('Done!')"
      ],
      "execution_count": 0,
      "outputs": [
        {
          "output_type": "stream",
          "text": [
            "Done!\n"
          ],
          "name": "stdout"
        }
      ]
    },
    {
      "cell_type": "markdown",
      "metadata": {
        "id": "J00lMZjlKAuZ",
        "colab_type": "text"
      },
      "source": [
        "Let's take a look."
      ]
    },
    {
      "cell_type": "code",
      "metadata": {
        "id": "CV0uM9iNKAua",
        "colab_type": "code",
        "outputId": "e8b46880-458a-45b3-a300-1b7150887ff2",
        "colab": {
          "base_uri": "https://localhost:8080/",
          "height": 51
        }
      },
      "source": [
        "%ls"
      ],
      "execution_count": 0,
      "outputs": [
        {
          "output_type": "stream",
          "text": [
            "\u001b[0m\u001b[01;36mdata\u001b[0m@      \u001b[01;34mgdrive\u001b[0m/  \u001b[01;34mTWITTER_CSV_EXPORTS\u001b[0m/     \u001b[01;34munclassified_tweets\u001b[0m/\n",
            "first.csv  \u001b[01;36mmodels\u001b[0m@  TWITTER_CSV_EXPORTS.zip  unclassified_tweets.zip\n"
          ],
          "name": "stdout"
        }
      ]
    },
    {
      "cell_type": "code",
      "metadata": {
        "id": "tiN5Uy3Xx-MW",
        "colab_type": "code",
        "outputId": "9684f1a4-6e5b-4743-fe1b-baa225ba6454",
        "colab": {
          "base_uri": "https://localhost:8080/",
          "height": 1000
        }
      },
      "source": [
        "import glob\n",
        "import pandas as pd\n",
        "\n",
        "# file_list = sorted(glob.glob('./unclassified_tweets/*.csv'))\n",
        "file_list = sorted(glob.glob('./TWITTER_CSV_EXPORTS/*.csv'))\n",
        "file_list"
      ],
      "execution_count": 0,
      "outputs": [
        {
          "output_type": "execute_result",
          "data": {
            "text/plain": [
              "['./TWITTER_CSV_EXPORTS/AZ-01-Shedd - shedd_tweets.csv',\n",
              " './TWITTER_CSV_EXPORTS/AZ-02 - stauz_tweets.csv',\n",
              " './TWITTER_CSV_EXPORTS/AZ-02.2 - Sheet1.csv',\n",
              " './TWITTER_CSV_EXPORTS/CA-25 - garcia_tweets.csv',\n",
              " './TWITTER_CSV_EXPORTS/CA-39-Kim - kim_tweets.csv',\n",
              " './TWITTER_CSV_EXPORTS/CA-45 - Sheet1.csv',\n",
              " './TWITTER_CSV_EXPORTS/CA-48-Steel - Sheet1.csv',\n",
              " './TWITTER_CSV_EXPORTS/CO-06-House - Sheet1.csv',\n",
              " './TWITTER_CSV_EXPORTS/IA-01-Hinson - Sheet1.csv',\n",
              " './TWITTER_CSV_EXPORTS/IA-02-Miller-Meeks - Sheet1.csv',\n",
              " './TWITTER_CSV_EXPORTS/IA-03-Young - Sheet1.csv',\n",
              " './TWITTER_CSV_EXPORTS/IL-06-Ives - Sheet1.csv',\n",
              " './TWITTER_CSV_EXPORTS/IL-14-Oberweis - Sheet1.csv',\n",
              " './TWITTER_CSV_EXPORTS/IL-17-Joy-King - Sheet1.csv',\n",
              " './TWITTER_CSV_EXPORTS/KS-03-Adkins - Sheet1.csv',\n",
              " './TWITTER_CSV_EXPORTS/ME-02-Bennett - Sheet1.csv',\n",
              " './TWITTER_CSV_EXPORTS/MI-11-Bentivoglio - Sheet1.csv',\n",
              " './TWITTER_CSV_EXPORTS/MI-11-Esshaki - Sheet1.csv',\n",
              " './TWITTER_CSV_EXPORTS/NJ-02-VanDrew - Sheet1.csv',\n",
              " './TWITTER_CSV_EXPORTS/NJ-07-Keane-Jr. - Sheet1.csv',\n",
              " './TWITTER_CSV_EXPORTS/NY-19-Hawatmeh - Sheet1.csv',\n",
              " './TWITTER_CSV_EXPORTS/TX-07-Hunt - Sheet1.csv',\n",
              " './TWITTER_CSV_EXPORTS/Tweet_Batch_3 - @Rimmer4Congress.csv',\n",
              " './TWITTER_CSV_EXPORTS/Tweet_Batch_3 - Anita Malik (D).csv',\n",
              " './TWITTER_CSV_EXPORTS/Tweet_Batch_3 - DanSchwartz.csv',\n",
              " './TWITTER_CSV_EXPORTS/Tweet_Batch_3 - DavidValadao.csv',\n",
              " './TWITTER_CSV_EXPORTS/Tweet_Batch_3 - GabeFerrer.csv',\n",
              " './TWITTER_CSV_EXPORTS/Tweet_Batch_3 - Hiral Tipirneni (D).csv',\n",
              " './TWITTER_CSV_EXPORTS/Tweet_Batch_3 - MikeGhassali.csv',\n",
              " './TWITTER_CSV_EXPORTS/Tweet_Batch_3 - ThomasDelia.csv',\n",
              " './TWITTER_CSV_EXPORTS/Tweet_Batch_4 - Adam Hattersley (D).csv',\n",
              " './TWITTER_CSV_EXPORTS/Tweet_Batch_4 - Alan Cohn (D).csv',\n",
              " './TWITTER_CSV_EXPORTS/Tweet_Batch_4 - Betsy Dirksen Londrigan (D).csv',\n",
              " './TWITTER_CSV_EXPORTS/Tweet_Batch_4 - Diane Mitsch Bush (D).csv',\n",
              " './TWITTER_CSV_EXPORTS/Tweet_Batch_4 - James Iacino (D).csv',\n",
              " './TWITTER_CSV_EXPORTS/Tweet_Batch_4 - Karl Gentles (D).csv',\n",
              " './TWITTER_CSV_EXPORTS/Tweet_Batch_4 - Margaret Good (D).csv',\n",
              " './TWITTER_CSV_EXPORTS/Tweet_Batch_4 - Nicholas Vessio (R).csv',\n",
              " './TWITTER_CSV_EXPORTS/Tweet_Batch_4 - Oz Vazquez (D).csv',\n",
              " './TWITTER_CSV_EXPORTS/Tweet_Batch_5 - ChristinaHale.csv',\n",
              " './TWITTER_CSV_EXPORTS/Tweet_Batch_5 - ChuckDietzen.csv',\n",
              " './TWITTER_CSV_EXPORTS/Tweet_Batch_5 - DanielFeehan.csv',\n",
              " './TWITTER_CSV_EXPORTS/Tweet_Batch_5 - JohnnyAkzam.csv',\n",
              " './TWITTER_CSV_EXPORTS/Tweet_Batch_5 - JonHoadley.csv',\n",
              " './TWITTER_CSV_EXPORTS/Tweet_Batch_5 - JoshHicks.csv',\n",
              " './TWITTER_CSV_EXPORTS/Tweet_Batch_5 - KellyMitchell.csv',\n",
              " './TWITTER_CSV_EXPORTS/Twitter_Batch 1 - AmandaMakki.csv',\n",
              " './TWITTER_CSV_EXPORTS/Twitter_Batch 1 - AnnaPaulina.csv',\n",
              " './TWITTER_CSV_EXPORTS/Twitter_Batch 1 - Elvira Salazar (R).csv',\n",
              " './TWITTER_CSV_EXPORTS/Twitter_Batch 1 - Irina Vilarino (R).csv',\n",
              " './TWITTER_CSV_EXPORTS/Twitter_Batch 1 - Karen Handel (R).csv',\n",
              " './TWITTER_CSV_EXPORTS/Twitter_Batch_6 - Debra Lamm (R).csv',\n",
              " './TWITTER_CSV_EXPORTS/Twitter_Batch_6 - Jill Schupp (D).csv',\n",
              " './TWITTER_CSV_EXPORTS/Twitter_Batch_6 - Joe Dooling (R).csv',\n",
              " './TWITTER_CSV_EXPORTS/Twitter_Batch_6 - Kathleen Williams (D).csv',\n",
              " './TWITTER_CSV_EXPORTS/Twitter_Batch_6 - Mark McGinley (R).csv',\n",
              " './TWITTER_CSV_EXPORTS/Twitter_Batch_6 - Mark Schroepfer (D).csv',\n",
              " './TWITTER_CSV_EXPORTS/Twitter_Batch_6 - Matt Rosendale (R).csv',\n",
              " './TWITTER_CSV_EXPORTS/Twitter_Batch_6 - Tom Winter (D).csv',\n",
              " './TWITTER_CSV_EXPORTS/Twitter_Batch_8 - Alaina Shearer (D).csv',\n",
              " './TWITTER_CSV_EXPORTS/Twitter_Batch_8 - Chris Jacobs (I).csv',\n",
              " './TWITTER_CSV_EXPORTS/Twitter_Batch_8 - Christina Finello (D).csv',\n",
              " './TWITTER_CSV_EXPORTS/Twitter_Batch_8 - Dana Balter (D).csv',\n",
              " './TWITTER_CSV_EXPORTS/Twitter_Batch_8 - Eugene DePasquale (D).csv',\n",
              " './TWITTER_CSV_EXPORTS/Twitter_Batch_8 - Francis Conole (D).csv',\n",
              " './TWITTER_CSV_EXPORTS/Twitter_Batch_8 - Nate McMurray (D).csv',\n",
              " './TWITTER_CSV_EXPORTS/Twitter_Batch_8 - Skylar Hurwitz (D).csv',\n",
              " './TWITTER_CSV_EXPORTS/Twitter_Batch_8 - Stefan Mychajliw (R).csv',\n",
              " './TWITTER_CSV_EXPORTS/Twitter_Batch_9 - Beth Van Duyne (R) .csv',\n",
              " './TWITTER_CSV_EXPORTS/Twitter_Batch_9 - Candace Valenzuela (D).csv',\n",
              " './TWITTER_CSV_EXPORTS/Twitter_Batch_9 - Carolyn Long (D).csv',\n",
              " './TWITTER_CSV_EXPORTS/Twitter_Batch_9 - Kim Olson (D).csv',\n",
              " './TWITTER_CSV_EXPORTS/Twitter_Batch_9 - Pritesh Gandhi (D).csv',\n",
              " './TWITTER_CSV_EXPORTS/Twitter_Batch_9 - Raul Reyes (R).csv']"
            ]
          },
          "metadata": {
            "tags": []
          },
          "execution_count": 67
        }
      ]
    },
    {
      "cell_type": "code",
      "metadata": {
        "id": "uU42EPvAx-JZ",
        "colab_type": "code",
        "outputId": "60b0791a-fc75-4a7f-cd84-54ea060103c7",
        "colab": {
          "base_uri": "https://localhost:8080/",
          "height": 105
        }
      },
      "source": [
        "!head './unclassified_tweets/Twitter_Batch 1 - GeorgeBuck (1).csv'"
      ],
      "execution_count": 0,
      "outputs": [
        {
          "output_type": "stream",
          "text": [
            "handle,date,content,url,covid_1,covid_2,covid_3,covid_final,other_1,other_2,other_3,other_final\r\n",
            ",2020-04-15 14:47:47,https://t.co/oC0bKhoYdm,,,FALSE,,,,FALSE,,\r\n",
            ",2020-04-10 23:28:58,\"Pinellas GOP Congressional Candidates on Coronavirus, Vote-by-Mail and President Trump https://t.co/tmRnXlZpQU\",,,FALSE,,,,FALSE,,\r\n",
            ",2020-03-18 23:55:05,\"Attorney General William Barr Busts Out Bagpipes Alongside NYPD, Wows Cr... https://t.co/qJiGLJJNXw via @YouTube\",,,FALSE,,,,FALSE,,"
          ],
          "name": "stdout"
        }
      ]
    },
    {
      "cell_type": "code",
      "metadata": {
        "id": "AiBkqX7hx-Em",
        "colab_type": "code",
        "outputId": "283d31b1-d058-4bd4-b78a-0ec741300489",
        "colab": {
          "base_uri": "https://localhost:8080/",
          "height": 207
        }
      },
      "source": [
        "!head './unclassified_tweets/VA-10-dove - Sheet1.csv'"
      ],
      "execution_count": 0,
      "outputs": [
        {
          "output_type": "stream",
          "text": [
            "date,handle,content,link,covid_1,covid_2,covid_3,covid_final,other_1,other_2,other_3,other_final\r\n",
            "\"April 05, 2020 at 03:49PM\",@JefferyADoveJr,Enjoy a safe and blessed #PalmSunday . Take time to think those of those in need. #VA10,http://twitter.com/JefferyADoveJr/status/1246887755810066438,,,,,,,,\r\n",
            "\"April 08, 2020 at 07:14AM\",@JefferyADoveJr,I saw the Representative tell her story. Its interesting that she was almost unable to try this medication that ended up saving her when she was startimg to experience very labored breathing. We need more testing but this looks promising. #VA10 https://t.co/havF1OpHiJ,http://twitter.com/JefferyADoveJr/status/1247845189886136322,,,,,,,,\r\n",
            "\"April 08, 2020 at 07:48PM\",@JefferyADoveJr,#HappyPassover to all those celebrating around the world. Have a blessed and safe celebration. #VA10 https://t.co/L6YpNRz7Ks,http://twitter.com/JefferyADoveJr/status/1248035102011121664,,,,,,,,\r\n",
            "\"April 09, 2020 at 12:12PM\",@JefferyADoveJr,\"We give our profound thanks to those who served and were captured while in service to our great nation. The sacrifices you and your families have made for our country will not be forgotten. #VA10\n",
            "\n",
            "https://t.co/N3DyATwKzg\",http://twitter.com/JefferyADoveJr/status/1248282573219954692,,,,,,,,\r\n",
            "\"April 09, 2020 at 05:31PM\",@JefferyADoveJr,The @HouseDemocrats are trying to use small businesses as leverage to pass things that have nothing to do with our current situation as a country. #SameOld career politicians. #VA10 needs new representation.,http://twitter.com/JefferyADoveJr/status/1248362849316962304,,,,,,,,\r\n",
            "\"April 10, 2020 at 09:35AM\",@JefferyADoveJr,\"\"\"For if, while we were God’s enemies, we were reconciled to him through the death of his Son, how much more, having been reconciled, shall we be saved through his life!\"\"\n",
            "Romans 5:10\",http://twitter.com/JefferyADoveJr/status/1248605553087188992,,,,,,,,\r\n"
          ],
          "name": "stdout"
        }
      ]
    },
    {
      "cell_type": "code",
      "metadata": {
        "id": "wQkp3HYGx-A4",
        "colab_type": "code",
        "colab": {}
      },
      "source": [
        ""
      ],
      "execution_count": 0,
      "outputs": []
    },
    {
      "cell_type": "code",
      "metadata": {
        "id": "cEu27kKQx92a",
        "colab_type": "code",
        "colab": {}
      },
      "source": [
        ""
      ],
      "execution_count": 0,
      "outputs": []
    },
    {
      "cell_type": "markdown",
      "metadata": {
        "id": "KEN6C8l-0nbO",
        "colab_type": "text"
      },
      "source": [
        "## Using our saved model"
      ]
    },
    {
      "cell_type": "code",
      "metadata": {
        "id": "BJnrhNy_0px2",
        "colab_type": "code",
        "outputId": "432e2a99-a323-479d-f494-54dac85377d3",
        "colab": {
          "base_uri": "https://localhost:8080/",
          "height": 122
        }
      },
      "source": [
        "from google.colab import drive\n",
        "drive.mount('/content/gdrive', force_remount=True)\n",
        "root_dir = \"/content/gdrive/My Drive/\"\n",
        "base_dir = root_dir + 'ai-workshop/candidate_tweets/'\n",
        "save_path = Path(base_dir)\n",
        "save_path.mkdir(parents=True, exist_ok=True)"
      ],
      "execution_count": 0,
      "outputs": [
        {
          "output_type": "stream",
          "text": [
            "Go to this URL in a browser: https://accounts.google.com/o/oauth2/auth?client_id=947318989803-6bn6qk8qdgf4n4g3pfee6491hc0brc4i.apps.googleusercontent.com&redirect_uri=urn%3aietf%3awg%3aoauth%3a2.0%3aoob&response_type=code&scope=email%20https%3a%2f%2fwww.googleapis.com%2fauth%2fdocs.test%20https%3a%2f%2fwww.googleapis.com%2fauth%2fdrive%20https%3a%2f%2fwww.googleapis.com%2fauth%2fdrive.photos.readonly%20https%3a%2f%2fwww.googleapis.com%2fauth%2fpeopleapi.readonly\n",
            "\n",
            "Enter your authorization code:\n",
            "··········\n",
            "Mounted at /content/gdrive\n"
          ],
          "name": "stdout"
        }
      ]
    },
    {
      "cell_type": "code",
      "metadata": {
        "id": "9FjDskon0si8",
        "colab_type": "code",
        "outputId": "e52312af-ab47-429d-f376-01c8a7eb2f80",
        "colab": {
          "base_uri": "https://localhost:8080/",
          "height": 17
        }
      },
      "source": [
        "# load the model from the 'export.pkl' file on your Google Drive\n",
        "my_model = load_learner(save_path, file=\"export-tweetmodel.pkl\")  "
      ],
      "execution_count": 0,
      "outputs": [
        {
          "output_type": "display_data",
          "data": {
            "text/html": [
              ""
            ],
            "text/plain": [
              "<IPython.core.display.HTML object>"
            ]
          },
          "metadata": {
            "tags": []
          }
        },
        {
          "output_type": "display_data",
          "data": {
            "text/html": [
              ""
            ],
            "text/plain": [
              "<IPython.core.display.HTML object>"
            ]
          },
          "metadata": {
            "tags": []
          }
        }
      ]
    },
    {
      "cell_type": "markdown",
      "metadata": {
        "id": "JucVYIlDz9wB",
        "colab_type": "text"
      },
      "source": [
        "## Getting every candidate's stats"
      ]
    },
    {
      "cell_type": "code",
      "metadata": {
        "id": "utmm2JkI0zlX",
        "colab_type": "code",
        "colab": {}
      },
      "source": [
        "import csv\n",
        "import os"
      ],
      "execution_count": 0,
      "outputs": []
    },
    {
      "cell_type": "code",
      "metadata": {
        "id": "GZyJ-bas6lLG",
        "colab_type": "code",
        "colab": {}
      },
      "source": [
        "threshold = 0.80\n",
        "summary_data = []"
      ],
      "execution_count": 0,
      "outputs": []
    },
    {
      "cell_type": "code",
      "metadata": {
        "id": "Yu6rx0mL2JvT",
        "colab_type": "code",
        "outputId": "fa5177ff-9706-4c8c-adf1-c55212343b1d",
        "colab": {
          "base_uri": "https://localhost:8080/",
          "height": 1000
        }
      },
      "source": [
        "# loop through all the file names\n",
        "for file in file_list: \n",
        "\n",
        "  # open csv\n",
        "  with open(file, newline='') as csvfile:\n",
        "    reader = csv.DictReader(csvfile)\n",
        "\n",
        "    # establish fresh values\n",
        "    count_all = 0\n",
        "    count_true = 0\n",
        "    count_threshold = 0\n",
        "    pct_true = 0.0\n",
        "    pct_threshold = 0.0\n",
        "\n",
        "    # loop through all the rows in the csv\n",
        "    for row in reader:\n",
        "\n",
        "      # skip this row if there's no content\n",
        "      if row['content'] == \"\":\n",
        "        continue \n",
        "\n",
        "      # we have content, count this row\n",
        "      count_all += 1\n",
        "\n",
        "      # make the prediction\n",
        "      fear = my_model.predict(row['content'])\n",
        "      pct_true = fear[2][1]\n",
        "\n",
        "      # did we detect fear?\n",
        "      if  pct_true > 0.50:\n",
        "        count_true += 1\n",
        "\n",
        "      # did it exceed the threshold?\n",
        "      if pct_true > threshold:\n",
        "        count_threshold += 1\n",
        "\n",
        "    # calculate percentages, avoiding division by zero\n",
        "    if (count_all > 0):\n",
        "      pct_true = count_true / count_all\n",
        "      pct_threshold = count_threshold / count_all\n",
        "\n",
        "    short_file = os.path.basename(file)\n",
        "    \n",
        "    this_item = [short_file, count_all, count_true, round(pct_true, 2), count_threshold, round(pct_threshold, 2)]\n",
        "    print(this_item)\n",
        "\n",
        "    summary_data.append(this_item)\n",
        "\n",
        "print(summary_data)\n",
        "\n",
        " "
      ],
      "execution_count": 0,
      "outputs": [
        {
          "output_type": "stream",
          "text": [
            "['AZ-01-Shedd - shedd_tweets.csv', 36, 1, 0.03, 0, 0.0]\n",
            "['AZ-02 - stauz_tweets.csv', 8, 0, 0.0, 0, 0.0]\n",
            "['AZ-02.2 - Sheet1.csv', 39, 6, 0.15, 4, 0.1]\n",
            "['CA-25 - garcia_tweets.csv', 82, 7, 0.09, 4, 0.05]\n",
            "['CA-39-Kim - kim_tweets.csv', 30, 0, 0.0, 0, 0.0]\n",
            "['CA-45 - Sheet1.csv', 69, 6, 0.09, 6, 0.09]\n",
            "['CA-48-Steel - Sheet1.csv', 19, 0, 0.0, 0, 0.0]\n",
            "['CO-06-House - Sheet1.csv', 38, 5, 0.13, 1, 0.03]\n",
            "['IA-01-Hinson - Sheet1.csv', 77, 0, 0.0, 0, 0.0]\n",
            "['IA-02-Miller-Meeks - Sheet1.csv', 37, 1, 0.03, 0, 0.0]\n",
            "['IA-03-Young - Sheet1.csv', 49, 2, 0.04, 1, 0.02]\n",
            "['IL-06-Ives - Sheet1.csv', 53, 34, 0.64, 27, 0.51]\n",
            "['IL-14-Oberweis - Sheet1.csv', 31, 10, 0.32, 5, 0.16]\n",
            "['IL-17-Joy-King - Sheet1.csv', 23, 5, 0.22, 3, 0.13]\n",
            "['KS-03-Adkins - Sheet1.csv', 25, 3, 0.12, 3, 0.12]\n",
            "['ME-02-Bennett - Sheet1.csv', 51, 18, 0.35, 13, 0.25]\n",
            "['MI-11-Bentivoglio - Sheet1.csv', 1, 0, 0.0, 0, 0.0]\n",
            "['MI-11-Esshaki - Sheet1.csv', 25, 6, 0.24, 3, 0.12]\n",
            "['NJ-02-VanDrew - Sheet1.csv', 14, 1, 0.07, 1, 0.07]\n",
            "['NJ-07-Keane-Jr. - Sheet1.csv', 37, 0, 0.0, 0, 0.0]\n",
            "['NY-19-Hawatmeh - Sheet1.csv', 38, 10, 0.26, 8, 0.21]\n",
            "['TX-07-Hunt - Sheet1.csv', 48, 5, 0.1, 4, 0.08]\n",
            "['Tweet_Batch_3 - @Rimmer4Congress.csv', 4, 0, 0.0, 0, 0.0]\n",
            "['Tweet_Batch_3 - Anita Malik (D).csv', 61, 0, 0.0, 0, 0.0]\n",
            "['Tweet_Batch_3 - DanSchwartz.csv', 91, 3, 0.03, 1, 0.01]\n",
            "['Tweet_Batch_3 - DavidValadao.csv', 67, 0, 0.0, 0, 0.0]\n",
            "['Tweet_Batch_3 - GabeFerrer.csv', 13, 0, 0.0, 0, 0.0]\n",
            "['Tweet_Batch_3 - Hiral Tipirneni (D).csv', 105, 4, 0.04, 1, 0.01]\n",
            "['Tweet_Batch_3 - MikeGhassali.csv', 85, 8, 0.09, 4, 0.05]\n",
            "['Tweet_Batch_3 - ThomasDelia.csv', 52, 2, 0.04, 0, 0.0]\n",
            "['Tweet_Batch_4 - Adam Hattersley (D).csv', 58, 3, 0.05, 0, 0.0]\n",
            "['Tweet_Batch_4 - Alan Cohn (D).csv', 89, 8, 0.09, 6, 0.07]\n",
            "['Tweet_Batch_4 - Betsy Dirksen Londrigan (D).csv', 94, 19, 0.2, 8, 0.09]\n",
            "['Tweet_Batch_4 - Diane Mitsch Bush (D).csv', 93, 12, 0.13, 9, 0.1]\n",
            "['Tweet_Batch_4 - James Iacino (D).csv', 76, 2, 0.03, 0, 0.0]\n",
            "['Tweet_Batch_4 - Karl Gentles (D).csv', 62, 2, 0.03, 1, 0.02]\n",
            "['Tweet_Batch_4 - Margaret Good (D).csv', 57, 5, 0.09, 3, 0.05]\n",
            "['Tweet_Batch_4 - Nicholas Vessio (R).csv', 5, 3, 0.6, 3, 0.6]\n",
            "['Tweet_Batch_4 - Oz Vazquez (D).csv', 41, 4, 0.1, 2, 0.05]\n",
            "['Tweet_Batch_5 - ChristinaHale.csv', 82, 0, 0.0, 0, 0.0]\n",
            "['Tweet_Batch_5 - ChuckDietzen.csv', 115, 0, 0.0, 0, 0.0]\n",
            "['Tweet_Batch_5 - DanielFeehan.csv', 83, 2, 0.02, 0, 0.0]\n",
            "['Tweet_Batch_5 - JohnnyAkzam.csv', 18, 4, 0.22, 4, 0.22]\n",
            "['Tweet_Batch_5 - JonHoadley.csv', 104, 1, 0.01, 1, 0.01]\n",
            "['Tweet_Batch_5 - JoshHicks.csv', 106, 11, 0.1, 6, 0.06]\n",
            "['Tweet_Batch_5 - KellyMitchell.csv', 74, 5, 0.07, 4, 0.05]\n",
            "['Twitter_Batch 1 - AmandaMakki.csv', 64, 4, 0.06, 0, 0.0]\n",
            "['Twitter_Batch 1 - AnnaPaulina.csv', 52, 8, 0.15, 6, 0.12]\n",
            "['Twitter_Batch 1 - Elvira Salazar (R).csv', 58, 5, 0.09, 2, 0.03]\n",
            "['Twitter_Batch 1 - Irina Vilarino (R).csv', 74, 19, 0.26, 9, 0.12]\n",
            "['Twitter_Batch 1 - Karen Handel (R).csv', 16, 3, 0.19, 3, 0.19]\n",
            "['Twitter_Batch_6 - Debra Lamm (R).csv', 16, 3, 0.19, 2, 0.12]\n",
            "['Twitter_Batch_6 - Jill Schupp (D).csv', 59, 3, 0.05, 1, 0.02]\n",
            "['Twitter_Batch_6 - Joe Dooling (R).csv', 6, 0, 0.0, 0, 0.0]\n",
            "['Twitter_Batch_6 - Kathleen Williams (D).csv', 59, 6, 0.1, 2, 0.03]\n",
            "['Twitter_Batch_6 - Mark McGinley (R).csv', 6, 0, 0.0, 0, 0.0]\n",
            "['Twitter_Batch_6 - Mark Schroepfer (D).csv', 3, 0, 0.0, 0, 0.0]\n",
            "['Twitter_Batch_6 - Matt Rosendale (R).csv', 59, 12, 0.2, 6, 0.1]\n",
            "['Twitter_Batch_6 - Tom Winter (D).csv', 25, 2, 0.08, 1, 0.04]\n",
            "['Twitter_Batch_8 - Alaina Shearer (D).csv', 44, 1, 0.02, 1, 0.02]\n",
            "['Twitter_Batch_8 - Chris Jacobs (I).csv', 78, 10, 0.13, 6, 0.08]\n",
            "['Twitter_Batch_8 - Christina Finello (D).csv', 62, 1, 0.02, 0, 0.0]\n",
            "['Twitter_Batch_8 - Dana Balter (D).csv', 101, 3, 0.03, 0, 0.0]\n",
            "['Twitter_Batch_8 - Eugene DePasquale (D).csv', 50, 0, 0.0, 0, 0.0]\n",
            "['Twitter_Batch_8 - Francis Conole (D).csv', 88, 2, 0.02, 0, 0.0]\n",
            "['Twitter_Batch_8 - Nate McMurray (D).csv', 97, 14, 0.14, 4, 0.04]\n",
            "['Twitter_Batch_8 - Skylar Hurwitz (D).csv', 104, 3, 0.03, 0, 0.0]\n",
            "['Twitter_Batch_8 - Stefan Mychajliw (R).csv', 52, 2, 0.04, 1, 0.02]\n",
            "['Twitter_Batch_9 - Beth Van Duyne (R) .csv', 60, 1, 0.02, 1, 0.02]\n",
            "['Twitter_Batch_9 - Candace Valenzuela (D).csv', 58, 2, 0.03, 1, 0.02]\n",
            "['Twitter_Batch_9 - Carolyn Long (D).csv', 91, 6, 0.07, 3, 0.03]\n",
            "['Twitter_Batch_9 - Kim Olson (D).csv', 63, 3, 0.05, 0, 0.0]\n",
            "['Twitter_Batch_9 - Pritesh Gandhi (D).csv', 81, 9, 0.11, 0, 0.0]\n",
            "['Twitter_Batch_9 - Raul Reyes (R).csv', 2, 0, 0.0, 0, 0.0]\n",
            "[['AZ-01-Shedd - shedd_tweets.csv', 36, 1, 0.03, 0, 0.0], ['AZ-02 - stauz_tweets.csv', 8, 0, 0.0, 0, 0.0], ['AZ-02.2 - Sheet1.csv', 39, 6, 0.15, 4, 0.1], ['CA-25 - garcia_tweets.csv', 82, 7, 0.09, 4, 0.05], ['CA-39-Kim - kim_tweets.csv', 30, 0, 0.0, 0, 0.0], ['CA-45 - Sheet1.csv', 69, 6, 0.09, 6, 0.09], ['CA-48-Steel - Sheet1.csv', 19, 0, 0.0, 0, 0.0], ['CO-06-House - Sheet1.csv', 38, 5, 0.13, 1, 0.03], ['IA-01-Hinson - Sheet1.csv', 77, 0, 0.0, 0, 0.0], ['IA-02-Miller-Meeks - Sheet1.csv', 37, 1, 0.03, 0, 0.0], ['IA-03-Young - Sheet1.csv', 49, 2, 0.04, 1, 0.02], ['IL-06-Ives - Sheet1.csv', 53, 34, 0.64, 27, 0.51], ['IL-14-Oberweis - Sheet1.csv', 31, 10, 0.32, 5, 0.16], ['IL-17-Joy-King - Sheet1.csv', 23, 5, 0.22, 3, 0.13], ['KS-03-Adkins - Sheet1.csv', 25, 3, 0.12, 3, 0.12], ['ME-02-Bennett - Sheet1.csv', 51, 18, 0.35, 13, 0.25], ['MI-11-Bentivoglio - Sheet1.csv', 1, 0, 0.0, 0, 0.0], ['MI-11-Esshaki - Sheet1.csv', 25, 6, 0.24, 3, 0.12], ['NJ-02-VanDrew - Sheet1.csv', 14, 1, 0.07, 1, 0.07], ['NJ-07-Keane-Jr. - Sheet1.csv', 37, 0, 0.0, 0, 0.0], ['NY-19-Hawatmeh - Sheet1.csv', 38, 10, 0.26, 8, 0.21], ['TX-07-Hunt - Sheet1.csv', 48, 5, 0.1, 4, 0.08], ['Tweet_Batch_3 - @Rimmer4Congress.csv', 4, 0, 0.0, 0, 0.0], ['Tweet_Batch_3 - Anita Malik (D).csv', 61, 0, 0.0, 0, 0.0], ['Tweet_Batch_3 - DanSchwartz.csv', 91, 3, 0.03, 1, 0.01], ['Tweet_Batch_3 - DavidValadao.csv', 67, 0, 0.0, 0, 0.0], ['Tweet_Batch_3 - GabeFerrer.csv', 13, 0, 0.0, 0, 0.0], ['Tweet_Batch_3 - Hiral Tipirneni (D).csv', 105, 4, 0.04, 1, 0.01], ['Tweet_Batch_3 - MikeGhassali.csv', 85, 8, 0.09, 4, 0.05], ['Tweet_Batch_3 - ThomasDelia.csv', 52, 2, 0.04, 0, 0.0], ['Tweet_Batch_4 - Adam Hattersley (D).csv', 58, 3, 0.05, 0, 0.0], ['Tweet_Batch_4 - Alan Cohn (D).csv', 89, 8, 0.09, 6, 0.07], ['Tweet_Batch_4 - Betsy Dirksen Londrigan (D).csv', 94, 19, 0.2, 8, 0.09], ['Tweet_Batch_4 - Diane Mitsch Bush (D).csv', 93, 12, 0.13, 9, 0.1], ['Tweet_Batch_4 - James Iacino (D).csv', 76, 2, 0.03, 0, 0.0], ['Tweet_Batch_4 - Karl Gentles (D).csv', 62, 2, 0.03, 1, 0.02], ['Tweet_Batch_4 - Margaret Good (D).csv', 57, 5, 0.09, 3, 0.05], ['Tweet_Batch_4 - Nicholas Vessio (R).csv', 5, 3, 0.6, 3, 0.6], ['Tweet_Batch_4 - Oz Vazquez (D).csv', 41, 4, 0.1, 2, 0.05], ['Tweet_Batch_5 - ChristinaHale.csv', 82, 0, 0.0, 0, 0.0], ['Tweet_Batch_5 - ChuckDietzen.csv', 115, 0, 0.0, 0, 0.0], ['Tweet_Batch_5 - DanielFeehan.csv', 83, 2, 0.02, 0, 0.0], ['Tweet_Batch_5 - JohnnyAkzam.csv', 18, 4, 0.22, 4, 0.22], ['Tweet_Batch_5 - JonHoadley.csv', 104, 1, 0.01, 1, 0.01], ['Tweet_Batch_5 - JoshHicks.csv', 106, 11, 0.1, 6, 0.06], ['Tweet_Batch_5 - KellyMitchell.csv', 74, 5, 0.07, 4, 0.05], ['Twitter_Batch 1 - AmandaMakki.csv', 64, 4, 0.06, 0, 0.0], ['Twitter_Batch 1 - AnnaPaulina.csv', 52, 8, 0.15, 6, 0.12], ['Twitter_Batch 1 - Elvira Salazar (R).csv', 58, 5, 0.09, 2, 0.03], ['Twitter_Batch 1 - Irina Vilarino (R).csv', 74, 19, 0.26, 9, 0.12], ['Twitter_Batch 1 - Karen Handel (R).csv', 16, 3, 0.19, 3, 0.19], ['Twitter_Batch_6 - Debra Lamm (R).csv', 16, 3, 0.19, 2, 0.12], ['Twitter_Batch_6 - Jill Schupp (D).csv', 59, 3, 0.05, 1, 0.02], ['Twitter_Batch_6 - Joe Dooling (R).csv', 6, 0, 0.0, 0, 0.0], ['Twitter_Batch_6 - Kathleen Williams (D).csv', 59, 6, 0.1, 2, 0.03], ['Twitter_Batch_6 - Mark McGinley (R).csv', 6, 0, 0.0, 0, 0.0], ['Twitter_Batch_6 - Mark Schroepfer (D).csv', 3, 0, 0.0, 0, 0.0], ['Twitter_Batch_6 - Matt Rosendale (R).csv', 59, 12, 0.2, 6, 0.1], ['Twitter_Batch_6 - Tom Winter (D).csv', 25, 2, 0.08, 1, 0.04], ['Twitter_Batch_8 - Alaina Shearer (D).csv', 44, 1, 0.02, 1, 0.02], ['Twitter_Batch_8 - Chris Jacobs (I).csv', 78, 10, 0.13, 6, 0.08], ['Twitter_Batch_8 - Christina Finello (D).csv', 62, 1, 0.02, 0, 0.0], ['Twitter_Batch_8 - Dana Balter (D).csv', 101, 3, 0.03, 0, 0.0], ['Twitter_Batch_8 - Eugene DePasquale (D).csv', 50, 0, 0.0, 0, 0.0], ['Twitter_Batch_8 - Francis Conole (D).csv', 88, 2, 0.02, 0, 0.0], ['Twitter_Batch_8 - Nate McMurray (D).csv', 97, 14, 0.14, 4, 0.04], ['Twitter_Batch_8 - Skylar Hurwitz (D).csv', 104, 3, 0.03, 0, 0.0], ['Twitter_Batch_8 - Stefan Mychajliw (R).csv', 52, 2, 0.04, 1, 0.02], ['Twitter_Batch_9 - Beth Van Duyne (R) .csv', 60, 1, 0.02, 1, 0.02], ['Twitter_Batch_9 - Candace Valenzuela (D).csv', 58, 2, 0.03, 1, 0.02], ['Twitter_Batch_9 - Carolyn Long (D).csv', 91, 6, 0.07, 3, 0.03], ['Twitter_Batch_9 - Kim Olson (D).csv', 63, 3, 0.05, 0, 0.0], ['Twitter_Batch_9 - Pritesh Gandhi (D).csv', 81, 9, 0.11, 0, 0.0], ['Twitter_Batch_9 - Raul Reyes (R).csv', 2, 0, 0.0, 0, 0.0]]\n"
          ],
          "name": "stdout"
        }
      ]
    },
    {
      "cell_type": "code",
      "metadata": {
        "id": "lBPVMc3iObnP",
        "colab_type": "code",
        "outputId": "0c1a09e2-3961-4eba-8676-27cce983d0d5",
        "colab": {
          "base_uri": "https://localhost:8080/",
          "height": 1000
        }
      },
      "source": [
        "summary_data"
      ],
      "execution_count": 0,
      "outputs": [
        {
          "output_type": "execute_result",
          "data": {
            "text/plain": [
              "[['AZ-01-Shedd - shedd_tweets.csv', 36, 1, 0.03, 0, 0.0],\n",
              " ['AZ-02 - stauz_tweets.csv', 8, 0, 0.0, 0, 0.0],\n",
              " ['AZ-02.2 - Sheet1.csv', 39, 6, 0.15, 4, 0.1],\n",
              " ['CA-25 - garcia_tweets.csv', 82, 7, 0.09, 4, 0.05],\n",
              " ['CA-39-Kim - kim_tweets.csv', 30, 0, 0.0, 0, 0.0],\n",
              " ['CA-45 - Sheet1.csv', 69, 6, 0.09, 6, 0.09],\n",
              " ['CA-48-Steel - Sheet1.csv', 19, 0, 0.0, 0, 0.0],\n",
              " ['CO-06-House - Sheet1.csv', 38, 5, 0.13, 1, 0.03],\n",
              " ['IA-01-Hinson - Sheet1.csv', 77, 0, 0.0, 0, 0.0],\n",
              " ['IA-02-Miller-Meeks - Sheet1.csv', 37, 1, 0.03, 0, 0.0],\n",
              " ['IA-03-Young - Sheet1.csv', 49, 2, 0.04, 1, 0.02],\n",
              " ['IL-06-Ives - Sheet1.csv', 53, 34, 0.64, 27, 0.51],\n",
              " ['IL-14-Oberweis - Sheet1.csv', 31, 10, 0.32, 5, 0.16],\n",
              " ['IL-17-Joy-King - Sheet1.csv', 23, 5, 0.22, 3, 0.13],\n",
              " ['KS-03-Adkins - Sheet1.csv', 25, 3, 0.12, 3, 0.12],\n",
              " ['ME-02-Bennett - Sheet1.csv', 51, 18, 0.35, 13, 0.25],\n",
              " ['MI-11-Bentivoglio - Sheet1.csv', 1, 0, 0.0, 0, 0.0],\n",
              " ['MI-11-Esshaki - Sheet1.csv', 25, 6, 0.24, 3, 0.12],\n",
              " ['NJ-02-VanDrew - Sheet1.csv', 14, 1, 0.07, 1, 0.07],\n",
              " ['NJ-07-Keane-Jr. - Sheet1.csv', 37, 0, 0.0, 0, 0.0],\n",
              " ['NY-19-Hawatmeh - Sheet1.csv', 38, 10, 0.26, 8, 0.21],\n",
              " ['TX-07-Hunt - Sheet1.csv', 48, 5, 0.1, 4, 0.08],\n",
              " ['Tweet_Batch_3 - @Rimmer4Congress.csv', 4, 0, 0.0, 0, 0.0],\n",
              " ['Tweet_Batch_3 - Anita Malik (D).csv', 61, 0, 0.0, 0, 0.0],\n",
              " ['Tweet_Batch_3 - DanSchwartz.csv', 91, 3, 0.03, 1, 0.01],\n",
              " ['Tweet_Batch_3 - DavidValadao.csv', 67, 0, 0.0, 0, 0.0],\n",
              " ['Tweet_Batch_3 - GabeFerrer.csv', 13, 0, 0.0, 0, 0.0],\n",
              " ['Tweet_Batch_3 - Hiral Tipirneni (D).csv', 105, 4, 0.04, 1, 0.01],\n",
              " ['Tweet_Batch_3 - MikeGhassali.csv', 85, 8, 0.09, 4, 0.05],\n",
              " ['Tweet_Batch_3 - ThomasDelia.csv', 52, 2, 0.04, 0, 0.0],\n",
              " ['Tweet_Batch_4 - Adam Hattersley (D).csv', 58, 3, 0.05, 0, 0.0],\n",
              " ['Tweet_Batch_4 - Alan Cohn (D).csv', 89, 8, 0.09, 6, 0.07],\n",
              " ['Tweet_Batch_4 - Betsy Dirksen Londrigan (D).csv', 94, 19, 0.2, 8, 0.09],\n",
              " ['Tweet_Batch_4 - Diane Mitsch Bush (D).csv', 93, 12, 0.13, 9, 0.1],\n",
              " ['Tweet_Batch_4 - James Iacino (D).csv', 76, 2, 0.03, 0, 0.0],\n",
              " ['Tweet_Batch_4 - Karl Gentles (D).csv', 62, 2, 0.03, 1, 0.02],\n",
              " ['Tweet_Batch_4 - Margaret Good (D).csv', 57, 5, 0.09, 3, 0.05],\n",
              " ['Tweet_Batch_4 - Nicholas Vessio (R).csv', 5, 3, 0.6, 3, 0.6],\n",
              " ['Tweet_Batch_4 - Oz Vazquez (D).csv', 41, 4, 0.1, 2, 0.05],\n",
              " ['Tweet_Batch_5 - ChristinaHale.csv', 82, 0, 0.0, 0, 0.0],\n",
              " ['Tweet_Batch_5 - ChuckDietzen.csv', 115, 0, 0.0, 0, 0.0],\n",
              " ['Tweet_Batch_5 - DanielFeehan.csv', 83, 2, 0.02, 0, 0.0],\n",
              " ['Tweet_Batch_5 - JohnnyAkzam.csv', 18, 4, 0.22, 4, 0.22],\n",
              " ['Tweet_Batch_5 - JonHoadley.csv', 104, 1, 0.01, 1, 0.01],\n",
              " ['Tweet_Batch_5 - JoshHicks.csv', 106, 11, 0.1, 6, 0.06],\n",
              " ['Tweet_Batch_5 - KellyMitchell.csv', 74, 5, 0.07, 4, 0.05],\n",
              " ['Twitter_Batch 1 - AmandaMakki.csv', 64, 4, 0.06, 0, 0.0],\n",
              " ['Twitter_Batch 1 - AnnaPaulina.csv', 52, 8, 0.15, 6, 0.12],\n",
              " ['Twitter_Batch 1 - Elvira Salazar (R).csv', 58, 5, 0.09, 2, 0.03],\n",
              " ['Twitter_Batch 1 - Irina Vilarino (R).csv', 74, 19, 0.26, 9, 0.12],\n",
              " ['Twitter_Batch 1 - Karen Handel (R).csv', 16, 3, 0.19, 3, 0.19],\n",
              " ['Twitter_Batch_6 - Debra Lamm (R).csv', 16, 3, 0.19, 2, 0.12],\n",
              " ['Twitter_Batch_6 - Jill Schupp (D).csv', 59, 3, 0.05, 1, 0.02],\n",
              " ['Twitter_Batch_6 - Joe Dooling (R).csv', 6, 0, 0.0, 0, 0.0],\n",
              " ['Twitter_Batch_6 - Kathleen Williams (D).csv', 59, 6, 0.1, 2, 0.03],\n",
              " ['Twitter_Batch_6 - Mark McGinley (R).csv', 6, 0, 0.0, 0, 0.0],\n",
              " ['Twitter_Batch_6 - Mark Schroepfer (D).csv', 3, 0, 0.0, 0, 0.0],\n",
              " ['Twitter_Batch_6 - Matt Rosendale (R).csv', 59, 12, 0.2, 6, 0.1],\n",
              " ['Twitter_Batch_6 - Tom Winter (D).csv', 25, 2, 0.08, 1, 0.04],\n",
              " ['Twitter_Batch_8 - Alaina Shearer (D).csv', 44, 1, 0.02, 1, 0.02],\n",
              " ['Twitter_Batch_8 - Chris Jacobs (I).csv', 78, 10, 0.13, 6, 0.08],\n",
              " ['Twitter_Batch_8 - Christina Finello (D).csv', 62, 1, 0.02, 0, 0.0],\n",
              " ['Twitter_Batch_8 - Dana Balter (D).csv', 101, 3, 0.03, 0, 0.0],\n",
              " ['Twitter_Batch_8 - Eugene DePasquale (D).csv', 50, 0, 0.0, 0, 0.0],\n",
              " ['Twitter_Batch_8 - Francis Conole (D).csv', 88, 2, 0.02, 0, 0.0],\n",
              " ['Twitter_Batch_8 - Nate McMurray (D).csv', 97, 14, 0.14, 4, 0.04],\n",
              " ['Twitter_Batch_8 - Skylar Hurwitz (D).csv', 104, 3, 0.03, 0, 0.0],\n",
              " ['Twitter_Batch_8 - Stefan Mychajliw (R).csv', 52, 2, 0.04, 1, 0.02],\n",
              " ['Twitter_Batch_9 - Beth Van Duyne (R) .csv', 60, 1, 0.02, 1, 0.02],\n",
              " ['Twitter_Batch_9 - Candace Valenzuela (D).csv', 58, 2, 0.03, 1, 0.02],\n",
              " ['Twitter_Batch_9 - Carolyn Long (D).csv', 91, 6, 0.07, 3, 0.03],\n",
              " ['Twitter_Batch_9 - Kim Olson (D).csv', 63, 3, 0.05, 0, 0.0],\n",
              " ['Twitter_Batch_9 - Pritesh Gandhi (D).csv', 81, 9, 0.11, 0, 0.0],\n",
              " ['Twitter_Batch_9 - Raul Reyes (R).csv', 2, 0, 0.0, 0, 0.0]]"
            ]
          },
          "metadata": {
            "tags": []
          },
          "execution_count": 70
        }
      ]
    },
    {
      "cell_type": "code",
      "metadata": {
        "id": "9OfLBG9LI_hl",
        "colab_type": "code",
        "colab": {}
      },
      "source": [
        "output_csv_df = pd.DataFrame(summary_data, columns=['file', 'count_all', 'count_true', 'pct_true', 'count_threshold', 'pct_threshold'])"
      ],
      "execution_count": 0,
      "outputs": []
    },
    {
      "cell_type": "code",
      "metadata": {
        "id": "trBGJFatI_dl",
        "colab_type": "code",
        "outputId": "bc5edef8-7bdc-4bbf-c97a-54a37a033f67",
        "colab": {
          "base_uri": "https://localhost:8080/",
          "height": 1000
        }
      },
      "source": [
        "output_csv_df"
      ],
      "execution_count": 0,
      "outputs": [
        {
          "output_type": "execute_result",
          "data": {
            "text/html": [
              "<div>\n",
              "<style scoped>\n",
              "    .dataframe tbody tr th:only-of-type {\n",
              "        vertical-align: middle;\n",
              "    }\n",
              "\n",
              "    .dataframe tbody tr th {\n",
              "        vertical-align: top;\n",
              "    }\n",
              "\n",
              "    .dataframe thead th {\n",
              "        text-align: right;\n",
              "    }\n",
              "</style>\n",
              "<table border=\"1\" class=\"dataframe\">\n",
              "  <thead>\n",
              "    <tr style=\"text-align: right;\">\n",
              "      <th></th>\n",
              "      <th>file</th>\n",
              "      <th>count_all</th>\n",
              "      <th>count_true</th>\n",
              "      <th>pct_true</th>\n",
              "      <th>count_threshold</th>\n",
              "      <th>pct_threshold</th>\n",
              "    </tr>\n",
              "  </thead>\n",
              "  <tbody>\n",
              "    <tr>\n",
              "      <th>0</th>\n",
              "      <td>CA-10 - Sheet1 (1).csv</td>\n",
              "      <td>53</td>\n",
              "      <td>2</td>\n",
              "      <td>0.04</td>\n",
              "      <td>0</td>\n",
              "      <td>0.00</td>\n",
              "    </tr>\n",
              "    <tr>\n",
              "      <th>1</th>\n",
              "      <td>CA-10 - Sheet1 (1).csv</td>\n",
              "      <td>53</td>\n",
              "      <td>2</td>\n",
              "      <td>0.04</td>\n",
              "      <td>0</td>\n",
              "      <td>0.00</td>\n",
              "    </tr>\n",
              "    <tr>\n",
              "      <th>2</th>\n",
              "      <td>CA-50-Najjar - Sheet1.csv</td>\n",
              "      <td>106</td>\n",
              "      <td>6</td>\n",
              "      <td>0.06</td>\n",
              "      <td>2</td>\n",
              "      <td>0.02</td>\n",
              "    </tr>\n",
              "    <tr>\n",
              "      <th>3</th>\n",
              "      <td>GA-07-Bordeaux - Sheet1.csv</td>\n",
              "      <td>46</td>\n",
              "      <td>1</td>\n",
              "      <td>0.02</td>\n",
              "      <td>0</td>\n",
              "      <td>0.00</td>\n",
              "    </tr>\n",
              "    <tr>\n",
              "      <th>4</th>\n",
              "      <td>IA-04-Scholten - Sheet1.csv</td>\n",
              "      <td>565</td>\n",
              "      <td>18</td>\n",
              "      <td>0.03</td>\n",
              "      <td>3</td>\n",
              "      <td>0.01</td>\n",
              "    </tr>\n",
              "    <tr>\n",
              "      <th>5</th>\n",
              "      <td>MI-08-Detmer - Sheet1.csv</td>\n",
              "      <td>50</td>\n",
              "      <td>4</td>\n",
              "      <td>0.08</td>\n",
              "      <td>0</td>\n",
              "      <td>0.00</td>\n",
              "    </tr>\n",
              "    <tr>\n",
              "      <th>6</th>\n",
              "      <td>NC-13-Huffman - Sheet1.csv</td>\n",
              "      <td>193</td>\n",
              "      <td>19</td>\n",
              "      <td>0.10</td>\n",
              "      <td>3</td>\n",
              "      <td>0.02</td>\n",
              "    </tr>\n",
              "    <tr>\n",
              "      <th>7</th>\n",
              "      <td>NJ-11-Becchi - Sheet1.csv</td>\n",
              "      <td>82</td>\n",
              "      <td>14</td>\n",
              "      <td>0.17</td>\n",
              "      <td>6</td>\n",
              "      <td>0.07</td>\n",
              "    </tr>\n",
              "    <tr>\n",
              "      <th>8</th>\n",
              "      <td>NY-02-Gordon - Sheet1.csv</td>\n",
              "      <td>39</td>\n",
              "      <td>0</td>\n",
              "      <td>0.00</td>\n",
              "      <td>0</td>\n",
              "      <td>0.00</td>\n",
              "    </tr>\n",
              "    <tr>\n",
              "      <th>9</th>\n",
              "      <td>NY-11 - malliotakis_tweets.csv</td>\n",
              "      <td>291</td>\n",
              "      <td>15</td>\n",
              "      <td>0.05</td>\n",
              "      <td>5</td>\n",
              "      <td>0.02</td>\n",
              "    </tr>\n",
              "    <tr>\n",
              "      <th>10</th>\n",
              "      <td>NY-18-Farley - Sheet1.csv</td>\n",
              "      <td>28</td>\n",
              "      <td>3</td>\n",
              "      <td>0.11</td>\n",
              "      <td>0</td>\n",
              "      <td>0.00</td>\n",
              "    </tr>\n",
              "    <tr>\n",
              "      <th>11</th>\n",
              "      <td>OH-01-Schroder - Sheet1.csv</td>\n",
              "      <td>860</td>\n",
              "      <td>23</td>\n",
              "      <td>0.03</td>\n",
              "      <td>1</td>\n",
              "      <td>0.00</td>\n",
              "    </tr>\n",
              "    <tr>\n",
              "      <th>12</th>\n",
              "      <td>OK-05-Neese - Sheet1.csv</td>\n",
              "      <td>22</td>\n",
              "      <td>4</td>\n",
              "      <td>0.18</td>\n",
              "      <td>3</td>\n",
              "      <td>0.14</td>\n",
              "    </tr>\n",
              "    <tr>\n",
              "      <th>13</th>\n",
              "      <td>PA-16-Gnibus - Gnibus.csv</td>\n",
              "      <td>61</td>\n",
              "      <td>2</td>\n",
              "      <td>0.03</td>\n",
              "      <td>2</td>\n",
              "      <td>0.03</td>\n",
              "    </tr>\n",
              "    <tr>\n",
              "      <th>14</th>\n",
              "      <td>TX-31-Imam - Sheet1 (1).csv</td>\n",
              "      <td>104</td>\n",
              "      <td>5</td>\n",
              "      <td>0.05</td>\n",
              "      <td>0</td>\n",
              "      <td>0.00</td>\n",
              "    </tr>\n",
              "    <tr>\n",
              "      <th>15</th>\n",
              "      <td>TX-31-Imam - Sheet1.csv</td>\n",
              "      <td>104</td>\n",
              "      <td>5</td>\n",
              "      <td>0.05</td>\n",
              "      <td>0</td>\n",
              "      <td>0.00</td>\n",
              "    </tr>\n",
              "    <tr>\n",
              "      <th>16</th>\n",
              "      <td>TX-32-Collins - Sheet1.csv</td>\n",
              "      <td>27</td>\n",
              "      <td>5</td>\n",
              "      <td>0.19</td>\n",
              "      <td>3</td>\n",
              "      <td>0.11</td>\n",
              "    </tr>\n",
              "    <tr>\n",
              "      <th>17</th>\n",
              "      <td>TX.31 Mann - Sheet2.csv</td>\n",
              "      <td>53</td>\n",
              "      <td>3</td>\n",
              "      <td>0.06</td>\n",
              "      <td>0</td>\n",
              "      <td>0.00</td>\n",
              "    </tr>\n",
              "    <tr>\n",
              "      <th>18</th>\n",
              "      <td>Twitter_Batch 1 - GeorgeBuck (1).csv</td>\n",
              "      <td>3</td>\n",
              "      <td>0</td>\n",
              "      <td>0.00</td>\n",
              "      <td>0</td>\n",
              "      <td>0.00</td>\n",
              "    </tr>\n",
              "    <tr>\n",
              "      <th>19</th>\n",
              "      <td>Twitter_Batch 1 - LeoValentin (1).csv</td>\n",
              "      <td>42</td>\n",
              "      <td>0</td>\n",
              "      <td>0.00</td>\n",
              "      <td>0</td>\n",
              "      <td>0.00</td>\n",
              "    </tr>\n",
              "    <tr>\n",
              "      <th>20</th>\n",
              "      <td>Twitter_Batch 1 - MattBecker (1).csv</td>\n",
              "      <td>37</td>\n",
              "      <td>2</td>\n",
              "      <td>0.05</td>\n",
              "      <td>1</td>\n",
              "      <td>0.03</td>\n",
              "    </tr>\n",
              "    <tr>\n",
              "      <th>21</th>\n",
              "      <td>Twitter_Batch 1 - OmarBlancoFL (1).csv</td>\n",
              "      <td>19</td>\n",
              "      <td>0</td>\n",
              "      <td>0.00</td>\n",
              "      <td>0</td>\n",
              "      <td>0.00</td>\n",
              "    </tr>\n",
              "    <tr>\n",
              "      <th>22</th>\n",
              "      <td>Twitter_Batch 1 - YukongZhao (1).csv</td>\n",
              "      <td>70</td>\n",
              "      <td>9</td>\n",
              "      <td>0.13</td>\n",
              "      <td>1</td>\n",
              "      <td>0.01</td>\n",
              "    </tr>\n",
              "    <tr>\n",
              "      <th>23</th>\n",
              "      <td>Twitter_Batch 2 - AlekSkarlatos.csv</td>\n",
              "      <td>88</td>\n",
              "      <td>6</td>\n",
              "      <td>0.07</td>\n",
              "      <td>1</td>\n",
              "      <td>0.01</td>\n",
              "    </tr>\n",
              "    <tr>\n",
              "      <th>24</th>\n",
              "      <td>Twitter_Batch 2 - DavidRichter.csv</td>\n",
              "      <td>80</td>\n",
              "      <td>4</td>\n",
              "      <td>0.05</td>\n",
              "      <td>1</td>\n",
              "      <td>0.01</td>\n",
              "    </tr>\n",
              "    <tr>\n",
              "      <th>25</th>\n",
              "      <td>Twitter_Batch 2 - DeanBrowning.csv</td>\n",
              "      <td>72</td>\n",
              "      <td>7</td>\n",
              "      <td>0.10</td>\n",
              "      <td>2</td>\n",
              "      <td>0.03</td>\n",
              "    </tr>\n",
              "    <tr>\n",
              "      <th>26</th>\n",
              "      <td>Twitter_Batch 2 - JimMarchant.csv</td>\n",
              "      <td>89</td>\n",
              "      <td>2</td>\n",
              "      <td>0.02</td>\n",
              "      <td>1</td>\n",
              "      <td>0.01</td>\n",
              "    </tr>\n",
              "    <tr>\n",
              "      <th>27</th>\n",
              "      <td>Twitter_Batch 2 - KateGibbs.csv</td>\n",
              "      <td>84</td>\n",
              "      <td>4</td>\n",
              "      <td>0.05</td>\n",
              "      <td>0</td>\n",
              "      <td>0.00</td>\n",
              "    </tr>\n",
              "    <tr>\n",
              "      <th>28</th>\n",
              "      <td>Twitter_Batch 2 - LisaScheller.csv</td>\n",
              "      <td>113</td>\n",
              "      <td>14</td>\n",
              "      <td>0.12</td>\n",
              "      <td>7</td>\n",
              "      <td>0.06</td>\n",
              "    </tr>\n",
              "    <tr>\n",
              "      <th>29</th>\n",
              "      <td>Twitter_Batch 2 - Mike Beehler.csv</td>\n",
              "      <td>61</td>\n",
              "      <td>8</td>\n",
              "      <td>0.13</td>\n",
              "      <td>3</td>\n",
              "      <td>0.05</td>\n",
              "    </tr>\n",
              "    <tr>\n",
              "      <th>30</th>\n",
              "      <td>Twitter_Batch 2 - NelsonIjih.csv</td>\n",
              "      <td>77</td>\n",
              "      <td>11</td>\n",
              "      <td>0.14</td>\n",
              "      <td>4</td>\n",
              "      <td>0.05</td>\n",
              "    </tr>\n",
              "    <tr>\n",
              "      <th>31</th>\n",
              "      <td>Twitter_Batch 2 - PaulJunge.csv</td>\n",
              "      <td>42</td>\n",
              "      <td>4</td>\n",
              "      <td>0.10</td>\n",
              "      <td>3</td>\n",
              "      <td>0.07</td>\n",
              "    </tr>\n",
              "    <tr>\n",
              "      <th>32</th>\n",
              "      <td>Twitter_Batch 2 - TeddyDaniels.csv</td>\n",
              "      <td>49</td>\n",
              "      <td>5</td>\n",
              "      <td>0.10</td>\n",
              "      <td>1</td>\n",
              "      <td>0.02</td>\n",
              "    </tr>\n",
              "    <tr>\n",
              "      <th>33</th>\n",
              "      <td>Twitter_Batch_7 - Alan Swain (R).csv</td>\n",
              "      <td>25</td>\n",
              "      <td>0</td>\n",
              "      <td>0.00</td>\n",
              "      <td>0</td>\n",
              "      <td>0.00</td>\n",
              "    </tr>\n",
              "    <tr>\n",
              "      <th>34</th>\n",
              "      <td>Twitter_Batch_7 - Ann Ashford (D).csv</td>\n",
              "      <td>44</td>\n",
              "      <td>1</td>\n",
              "      <td>0.02</td>\n",
              "      <td>0</td>\n",
              "      <td>0.00</td>\n",
              "    </tr>\n",
              "    <tr>\n",
              "      <th>35</th>\n",
              "      <td>Twitter_Batch_7 - Bridget Fleming (D).csv</td>\n",
              "      <td>86</td>\n",
              "      <td>2</td>\n",
              "      <td>0.02</td>\n",
              "      <td>0</td>\n",
              "      <td>0.00</td>\n",
              "    </tr>\n",
              "    <tr>\n",
              "      <th>36</th>\n",
              "      <td>Twitter_Batch_7 - Cynthia Wallace (D).csv</td>\n",
              "      <td>69</td>\n",
              "      <td>1</td>\n",
              "      <td>0.01</td>\n",
              "      <td>0</td>\n",
              "      <td>0.00</td>\n",
              "    </tr>\n",
              "    <tr>\n",
              "      <th>37</th>\n",
              "      <td>Twitter_Batch_7 - Dan Bishop (R).csv</td>\n",
              "      <td>63</td>\n",
              "      <td>7</td>\n",
              "      <td>0.11</td>\n",
              "      <td>3</td>\n",
              "      <td>0.05</td>\n",
              "    </tr>\n",
              "    <tr>\n",
              "      <th>38</th>\n",
              "      <td>Twitter_Batch_7 - Deborah Ross (D).csv</td>\n",
              "      <td>95</td>\n",
              "      <td>0</td>\n",
              "      <td>0.00</td>\n",
              "      <td>0</td>\n",
              "      <td>0.00</td>\n",
              "    </tr>\n",
              "    <tr>\n",
              "      <th>39</th>\n",
              "      <td>Twitter_Batch_7 - Gladys Harrison (D).csv</td>\n",
              "      <td>26</td>\n",
              "      <td>5</td>\n",
              "      <td>0.19</td>\n",
              "      <td>1</td>\n",
              "      <td>0.04</td>\n",
              "    </tr>\n",
              "    <tr>\n",
              "      <th>40</th>\n",
              "      <td>Twitter_Batch_7 - Kara Eastman (D).csv</td>\n",
              "      <td>37</td>\n",
              "      <td>3</td>\n",
              "      <td>0.08</td>\n",
              "      <td>1</td>\n",
              "      <td>0.03</td>\n",
              "    </tr>\n",
              "    <tr>\n",
              "      <th>41</th>\n",
              "      <td>Twitter_Batch_7 - Nancy Goroff (D).csv</td>\n",
              "      <td>58</td>\n",
              "      <td>3</td>\n",
              "      <td>0.05</td>\n",
              "      <td>0</td>\n",
              "      <td>0.00</td>\n",
              "    </tr>\n",
              "    <tr>\n",
              "      <th>42</th>\n",
              "      <td>Twitter_Batch_9 - Kathaleen Wall (R) (1).csv</td>\n",
              "      <td>111</td>\n",
              "      <td>17</td>\n",
              "      <td>0.15</td>\n",
              "      <td>10</td>\n",
              "      <td>0.09</td>\n",
              "    </tr>\n",
              "    <tr>\n",
              "      <th>43</th>\n",
              "      <td>Twitter_Batch_9 - Wendy Davis (D) (1).csv</td>\n",
              "      <td>56</td>\n",
              "      <td>1</td>\n",
              "      <td>0.02</td>\n",
              "      <td>0</td>\n",
              "      <td>0.00</td>\n",
              "    </tr>\n",
              "    <tr>\n",
              "      <th>44</th>\n",
              "      <td>UT-04-coleman - Sheet1.csv</td>\n",
              "      <td>121</td>\n",
              "      <td>5</td>\n",
              "      <td>0.04</td>\n",
              "      <td>1</td>\n",
              "      <td>0.01</td>\n",
              "    </tr>\n",
              "    <tr>\n",
              "      <th>45</th>\n",
              "      <td>VA-02 - Sheet1.csv</td>\n",
              "      <td>336</td>\n",
              "      <td>32</td>\n",
              "      <td>0.10</td>\n",
              "      <td>6</td>\n",
              "      <td>0.02</td>\n",
              "    </tr>\n",
              "    <tr>\n",
              "      <th>46</th>\n",
              "      <td>VA-05-Hoffstetler - Sheet1.csv</td>\n",
              "      <td>58</td>\n",
              "      <td>1</td>\n",
              "      <td>0.02</td>\n",
              "      <td>0</td>\n",
              "      <td>0.00</td>\n",
              "    </tr>\n",
              "    <tr>\n",
              "      <th>47</th>\n",
              "      <td>VA-07-freitas - Sheet1.csv</td>\n",
              "      <td>43</td>\n",
              "      <td>6</td>\n",
              "      <td>0.14</td>\n",
              "      <td>2</td>\n",
              "      <td>0.05</td>\n",
              "    </tr>\n",
              "    <tr>\n",
              "      <th>48</th>\n",
              "      <td>VA-10-dove - Sheet1.csv</td>\n",
              "      <td>37</td>\n",
              "      <td>8</td>\n",
              "      <td>0.22</td>\n",
              "      <td>1</td>\n",
              "      <td>0.03</td>\n",
              "    </tr>\n",
              "  </tbody>\n",
              "</table>\n",
              "</div>"
            ],
            "text/plain": [
              "                                            file  ...  pct_threshold\n",
              "0                         CA-10 - Sheet1 (1).csv  ...           0.00\n",
              "1                         CA-10 - Sheet1 (1).csv  ...           0.00\n",
              "2                      CA-50-Najjar - Sheet1.csv  ...           0.02\n",
              "3                    GA-07-Bordeaux - Sheet1.csv  ...           0.00\n",
              "4                    IA-04-Scholten - Sheet1.csv  ...           0.01\n",
              "5                      MI-08-Detmer - Sheet1.csv  ...           0.00\n",
              "6                     NC-13-Huffman - Sheet1.csv  ...           0.02\n",
              "7                      NJ-11-Becchi - Sheet1.csv  ...           0.07\n",
              "8                      NY-02-Gordon - Sheet1.csv  ...           0.00\n",
              "9                 NY-11 - malliotakis_tweets.csv  ...           0.02\n",
              "10                     NY-18-Farley - Sheet1.csv  ...           0.00\n",
              "11                   OH-01-Schroder - Sheet1.csv  ...           0.00\n",
              "12                      OK-05-Neese - Sheet1.csv  ...           0.14\n",
              "13                     PA-16-Gnibus - Gnibus.csv  ...           0.03\n",
              "14                   TX-31-Imam - Sheet1 (1).csv  ...           0.00\n",
              "15                       TX-31-Imam - Sheet1.csv  ...           0.00\n",
              "16                    TX-32-Collins - Sheet1.csv  ...           0.11\n",
              "17                       TX.31 Mann - Sheet2.csv  ...           0.00\n",
              "18          Twitter_Batch 1 - GeorgeBuck (1).csv  ...           0.00\n",
              "19         Twitter_Batch 1 - LeoValentin (1).csv  ...           0.00\n",
              "20          Twitter_Batch 1 - MattBecker (1).csv  ...           0.03\n",
              "21        Twitter_Batch 1 - OmarBlancoFL (1).csv  ...           0.00\n",
              "22          Twitter_Batch 1 - YukongZhao (1).csv  ...           0.01\n",
              "23           Twitter_Batch 2 - AlekSkarlatos.csv  ...           0.01\n",
              "24            Twitter_Batch 2 - DavidRichter.csv  ...           0.01\n",
              "25            Twitter_Batch 2 - DeanBrowning.csv  ...           0.03\n",
              "26             Twitter_Batch 2 - JimMarchant.csv  ...           0.01\n",
              "27               Twitter_Batch 2 - KateGibbs.csv  ...           0.00\n",
              "28            Twitter_Batch 2 - LisaScheller.csv  ...           0.06\n",
              "29            Twitter_Batch 2 - Mike Beehler.csv  ...           0.05\n",
              "30              Twitter_Batch 2 - NelsonIjih.csv  ...           0.05\n",
              "31               Twitter_Batch 2 - PaulJunge.csv  ...           0.07\n",
              "32            Twitter_Batch 2 - TeddyDaniels.csv  ...           0.02\n",
              "33          Twitter_Batch_7 - Alan Swain (R).csv  ...           0.00\n",
              "34         Twitter_Batch_7 - Ann Ashford (D).csv  ...           0.00\n",
              "35     Twitter_Batch_7 - Bridget Fleming (D).csv  ...           0.00\n",
              "36     Twitter_Batch_7 - Cynthia Wallace (D).csv  ...           0.00\n",
              "37          Twitter_Batch_7 - Dan Bishop (R).csv  ...           0.05\n",
              "38        Twitter_Batch_7 - Deborah Ross (D).csv  ...           0.00\n",
              "39     Twitter_Batch_7 - Gladys Harrison (D).csv  ...           0.04\n",
              "40        Twitter_Batch_7 - Kara Eastman (D).csv  ...           0.03\n",
              "41        Twitter_Batch_7 - Nancy Goroff (D).csv  ...           0.00\n",
              "42  Twitter_Batch_9 - Kathaleen Wall (R) (1).csv  ...           0.09\n",
              "43     Twitter_Batch_9 - Wendy Davis (D) (1).csv  ...           0.00\n",
              "44                    UT-04-coleman - Sheet1.csv  ...           0.01\n",
              "45                            VA-02 - Sheet1.csv  ...           0.02\n",
              "46                VA-05-Hoffstetler - Sheet1.csv  ...           0.00\n",
              "47                    VA-07-freitas - Sheet1.csv  ...           0.05\n",
              "48                       VA-10-dove - Sheet1.csv  ...           0.03\n",
              "\n",
              "[49 rows x 6 columns]"
            ]
          },
          "metadata": {
            "tags": []
          },
          "execution_count": 59
        }
      ]
    },
    {
      "cell_type": "code",
      "metadata": {
        "id": "SN5-X3vuI_Pw",
        "colab_type": "code",
        "colab": {}
      },
      "source": [
        "output_csv_name = f'{save_path}/summary2.csv'\n",
        "output_csv_df.to_csv(output_csv_name, index=False)"
      ],
      "execution_count": 0,
      "outputs": []
    },
    {
      "cell_type": "code",
      "metadata": {
        "id": "zLraK3d04yVf",
        "colab_type": "code",
        "outputId": "e6423c44-9e6f-4bc4-e81e-ccd7c0452551",
        "colab": {
          "base_uri": "https://localhost:8080/",
          "height": 85
        }
      },
      "source": [
        "!head summary.csv"
      ],
      "execution_count": 0,
      "outputs": [
        {
          "output_type": "stream",
          "text": [
            "file,count_all,count_true,pct_true,count_threshold,pct_threshold\n",
            "file,count_all,count_true,pct_true,count_threshold,pct_threshold\n",
            "CA-10 - Sheet1 (1).csv,53,2,0.04,0,0.0\n",
            "CA-50-Najjar - Sheet1.csv,106,6,0.06,2,0.02\n"
          ],
          "name": "stdout"
        }
      ]
    },
    {
      "cell_type": "code",
      "metadata": {
        "id": "MQ23-bAtPVOo",
        "colab_type": "code",
        "colab": {}
      },
      "source": [
        "!rm summary.csv"
      ],
      "execution_count": 0,
      "outputs": []
    },
    {
      "cell_type": "code",
      "metadata": {
        "id": "nXwA_MpgPZ24",
        "colab_type": "code",
        "colab": {}
      },
      "source": [
        ""
      ],
      "execution_count": 0,
      "outputs": []
    }
  ]
}